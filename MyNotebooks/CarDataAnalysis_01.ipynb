{
  "nbformat": 4,
  "nbformat_minor": 0,
  "metadata": {
    "colab": {
      "name": "CarDataAnalysis_01.ipynb",
      "provenance": [],
      "collapsed_sections": []
    },
    "kernelspec": {
      "name": "python3",
      "display_name": "Python 3"
    }
  },
  "cells": [
    {
      "cell_type": "code",
      "metadata": {
        "id": "GC-op53nKy7W",
        "colab_type": "code",
        "colab": {
          "base_uri": "https://localhost:8080/",
          "height": 124
        },
        "outputId": "97a263b4-4a2e-407a-a763-0d872d502eec"
      },
      "source": [
        "from google.colab import drive\n",
        "drive.mount('/content/drive', force_remount=True)"
      ],
      "execution_count": 1,
      "outputs": [
        {
          "output_type": "stream",
          "text": [
            "Go to this URL in a browser: https://accounts.google.com/o/oauth2/auth?client_id=947318989803-6bn6qk8qdgf4n4g3pfee6491hc0brc4i.apps.googleusercontent.com&redirect_uri=urn%3aietf%3awg%3aoauth%3a2.0%3aoob&response_type=code&scope=email%20https%3a%2f%2fwww.googleapis.com%2fauth%2fdocs.test%20https%3a%2f%2fwww.googleapis.com%2fauth%2fdrive%20https%3a%2f%2fwww.googleapis.com%2fauth%2fdrive.photos.readonly%20https%3a%2f%2fwww.googleapis.com%2fauth%2fpeopleapi.readonly\n",
            "\n",
            "Enter your authorization code:\n",
            "··········\n",
            "Mounted at /content/drive\n"
          ],
          "name": "stdout"
        }
      ]
    },
    {
      "cell_type": "code",
      "metadata": {
        "id": "Xjvwd76WLFRp",
        "colab_type": "code",
        "colab": {}
      },
      "source": [
        "!cp /content/drive/My\\ Drive/L7andL8/thecarconnectionpicturedataset.rar /content/"
      ],
      "execution_count": 6,
      "outputs": []
    },
    {
      "cell_type": "code",
      "metadata": {
        "id": "E5FqROphLWpu",
        "colab_type": "code",
        "colab": {
          "base_uri": "https://localhost:8080/",
          "height": 104
        },
        "outputId": "1400865f-b5a6-4f7b-e2dc-ccadfddcad75"
      },
      "source": [
        "!pip install patool"
      ],
      "execution_count": 7,
      "outputs": [
        {
          "output_type": "stream",
          "text": [
            "Collecting patool\n",
            "\u001b[?25l  Downloading https://files.pythonhosted.org/packages/43/94/52243ddff508780dd2d8110964320ab4851134a55ab102285b46e740f76a/patool-1.12-py2.py3-none-any.whl (77kB)\n",
            "\r\u001b[K     |████▎                           | 10kB 19.9MB/s eta 0:00:01\r\u001b[K     |████████▌                       | 20kB 1.7MB/s eta 0:00:01\r\u001b[K     |████████████▊                   | 30kB 2.3MB/s eta 0:00:01\r\u001b[K     |█████████████████               | 40kB 2.5MB/s eta 0:00:01\r\u001b[K     |█████████████████████▏          | 51kB 2.0MB/s eta 0:00:01\r\u001b[K     |█████████████████████████▍      | 61kB 2.3MB/s eta 0:00:01\r\u001b[K     |█████████████████████████████▋  | 71kB 2.5MB/s eta 0:00:01\r\u001b[K     |████████████████████████████████| 81kB 2.3MB/s \n",
            "\u001b[?25hInstalling collected packages: patool\n",
            "Successfully installed patool-1.12\n"
          ],
          "name": "stdout"
        }
      ]
    },
    {
      "cell_type": "code",
      "metadata": {
        "id": "_RYUC4DwLwVm",
        "colab_type": "code",
        "colab": {}
      },
      "source": [
        "!mkdir /content/CarImages/"
      ],
      "execution_count": 8,
      "outputs": []
    },
    {
      "cell_type": "code",
      "metadata": {
        "id": "_m0dmLDMLzW1",
        "colab_type": "code",
        "colab": {
          "base_uri": "https://localhost:8080/",
          "height": 105
        },
        "outputId": "bb7c9dbd-6c9f-423c-d812-321ad0d59a96"
      },
      "source": [
        "import patoolib\n",
        "patoolib.extract_archive('/content/thecarconnectionpicturedataset.rar', outdir='/content/CarImages/')"
      ],
      "execution_count": 9,
      "outputs": [
        {
          "output_type": "stream",
          "text": [
            "patool: Extracting /content/thecarconnectionpicturedataset.rar ...\n",
            "patool: running /usr/bin/unrar x -- /content/thecarconnectionpicturedataset.rar\n",
            "patool:     with cwd='/content/CarImages/'\n",
            "patool: ... /content/thecarconnectionpicturedataset.rar extracted to `/content/CarImages/'.\n"
          ],
          "name": "stdout"
        },
        {
          "output_type": "execute_result",
          "data": {
            "application/vnd.google.colaboratory.intrinsic+json": {
              "type": "string"
            },
            "text/plain": [
              "'/content/CarImages/'"
            ]
          },
          "metadata": {
            "tags": []
          },
          "execution_count": 9
        }
      ]
    },
    {
      "cell_type": "markdown",
      "metadata": {
        "id": "4ftssyorO4cH",
        "colab_type": "text"
      },
      "source": [
        "# Create an array of unstructured data and analyze it WITHOUT explicitly creating a table first.  "
      ]
    },
    {
      "cell_type": "code",
      "metadata": {
        "id": "Q3z9LkbzL4EV",
        "colab_type": "code",
        "colab": {
          "base_uri": "https://localhost:8080/",
          "height": 55
        },
        "outputId": "83f7315b-900c-48ea-d133-0a198f74095c"
      },
      "source": [
        "import os\n",
        "arr = os.listdir('/content/CarImages/')\n",
        "print(arr[:10])"
      ],
      "execution_count": 10,
      "outputs": [
        {
          "output_type": "stream",
          "text": [
            "['Ford_Fiesta_2016_14_15_120_16_4_67_58_173_28_FWD_5_4_4dr_ZBk.jpg', 'Mercedes-Benz_Metris_2020_31_17_200_20_4_75_75_202_20_RWD_2_3_Van_Yfb.jpg', 'Alfa Romeo_Giulia_2017_39_17_280_20_4_73_56_182_23_AWD_5_4_4dr_Sed.jpg', 'Chevrolet_Volt_2016_33_17_140_15_4_71_56_180_43_FWD_5_4_4dr_EuI.jpg', 'Nissan_Sentra_2017_24_18_180_16_4_69_58_183_25_FWD_5_4_4dr_IaF.jpg', 'Kia_Sportage_2017_27_18_180_24_4_73_65_176_21_AWD_5_4_SUV_tBW.jpg', 'MINI_Clubman_2019_26_16_130_15_3_70_56_168_22_AWD_5_4_4dr_oMG.jpg', 'Honda_Accord_2013_25_17_180_24_4_72_56_189_26_FWD_5_2_2dr_rPZ.jpg', 'Subaru_Impreza_2011_18_16_170_25_4_68_58_180_20_AWD_5_4_4dr_Nxx.jpg', 'Mitsubishi_Eclipse Cross_2019_23_16_150_15_4_71_66_173_26_FWD_5_4_SUV_IMu.jpg']\n"
          ],
          "name": "stdout"
        }
      ]
    },
    {
      "cell_type": "code",
      "metadata": {
        "id": "PzQUFhC7MZbl",
        "colab_type": "code",
        "colab": {}
      },
      "source": [
        "# 'Make', 'Model', 'Year', 'MSRP', 'Front Wheel Size (in)', 'SAE Net Horsepower @ RPM', 'Displacement', 'Engine Type', 'Width, Max w/o mirrors (in)', 'Height, Overall (in)', 'Length, Overall (in)', 'Gas Mileage', 'Drivetrain', 'Passenger Capacity', 'Passenger Doors', 'Body Style'"
      ],
      "execution_count": 11,
      "outputs": []
    },
    {
      "cell_type": "code",
      "metadata": {
        "id": "e29D2V12MiZV",
        "colab_type": "code",
        "colab": {
          "base_uri": "https://localhost:8080/",
          "height": 503
        },
        "outputId": "a49ca2ae-8c20-4b97-edec-a551dd65dd28"
      },
      "source": [
        "# Exploring the filename strings after parsing out just the first word of the filename - which represents the brand of the vehicle. \n",
        "\n",
        "import pandas as pd\n",
        "df = pd.DataFrame({'filename': arr})\n",
        "# df['filename'].str.split('_').str[0].str.split('_').str[-1]  \n",
        "\n",
        "# How many images of each car type do we have?         \n",
        "df['filename'].str.split('_').str[2].value_counts()"
      ],
      "execution_count": 25,
      "outputs": [
        {
          "output_type": "execute_result",
          "data": {
            "text/plain": [
              "2019    10224\n",
              "2011     9090\n",
              "2017     7965\n",
              "2016     6453\n",
              "2015     6284\n",
              "2014     5606\n",
              "2020     5562\n",
              "2012     5112\n",
              "2013     4691\n",
              "2010     1938\n",
              "2009      351\n",
              "2005      273\n",
              "2008      224\n",
              "2006      175\n",
              "2004      152\n",
              "2007      123\n",
              "2003       64\n",
              "2001       39\n",
              "1999       36\n",
              "2000       34\n",
              "2002       28\n",
              "1998       25\n",
              "1997       10\n",
              "1990        3\n",
              "1995        2\n",
              "1996        2\n",
              "1994        1\n",
              "Name: filename, dtype: int64"
            ]
          },
          "metadata": {
            "tags": []
          },
          "execution_count": 25
        }
      ]
    },
    {
      "cell_type": "code",
      "metadata": {
        "id": "YmVGvCEMM4yF",
        "colab_type": "code",
        "colab": {
          "base_uri": "https://localhost:8080/",
          "height": 202
        },
        "outputId": "ec889d32-249b-4767-a4d7-d3f798d30108"
      },
      "source": [
        "DataFrameOfCarData = pd.DataFrame(df['filename'].str.split('_').tolist(), index= df.index)\n",
        "DataFrameOfCarData.head()"
      ],
      "execution_count": 26,
      "outputs": [
        {
          "output_type": "execute_result",
          "data": {
            "text/html": [
              "<div>\n",
              "<style scoped>\n",
              "    .dataframe tbody tr th:only-of-type {\n",
              "        vertical-align: middle;\n",
              "    }\n",
              "\n",
              "    .dataframe tbody tr th {\n",
              "        vertical-align: top;\n",
              "    }\n",
              "\n",
              "    .dataframe thead th {\n",
              "        text-align: right;\n",
              "    }\n",
              "</style>\n",
              "<table border=\"1\" class=\"dataframe\">\n",
              "  <thead>\n",
              "    <tr style=\"text-align: right;\">\n",
              "      <th></th>\n",
              "      <th>0</th>\n",
              "      <th>1</th>\n",
              "      <th>2</th>\n",
              "      <th>3</th>\n",
              "      <th>4</th>\n",
              "      <th>5</th>\n",
              "      <th>6</th>\n",
              "      <th>7</th>\n",
              "      <th>8</th>\n",
              "      <th>9</th>\n",
              "      <th>10</th>\n",
              "      <th>11</th>\n",
              "      <th>12</th>\n",
              "      <th>13</th>\n",
              "      <th>14</th>\n",
              "      <th>15</th>\n",
              "      <th>16</th>\n",
              "    </tr>\n",
              "  </thead>\n",
              "  <tbody>\n",
              "    <tr>\n",
              "      <th>0</th>\n",
              "      <td>Ford</td>\n",
              "      <td>Fiesta</td>\n",
              "      <td>2016</td>\n",
              "      <td>14</td>\n",
              "      <td>15</td>\n",
              "      <td>120</td>\n",
              "      <td>16</td>\n",
              "      <td>4</td>\n",
              "      <td>67</td>\n",
              "      <td>58</td>\n",
              "      <td>173</td>\n",
              "      <td>28</td>\n",
              "      <td>FWD</td>\n",
              "      <td>5</td>\n",
              "      <td>4</td>\n",
              "      <td>4dr</td>\n",
              "      <td>ZBk.jpg</td>\n",
              "    </tr>\n",
              "    <tr>\n",
              "      <th>1</th>\n",
              "      <td>Mercedes-Benz</td>\n",
              "      <td>Metris</td>\n",
              "      <td>2020</td>\n",
              "      <td>31</td>\n",
              "      <td>17</td>\n",
              "      <td>200</td>\n",
              "      <td>20</td>\n",
              "      <td>4</td>\n",
              "      <td>75</td>\n",
              "      <td>75</td>\n",
              "      <td>202</td>\n",
              "      <td>20</td>\n",
              "      <td>RWD</td>\n",
              "      <td>2</td>\n",
              "      <td>3</td>\n",
              "      <td>Van</td>\n",
              "      <td>Yfb.jpg</td>\n",
              "    </tr>\n",
              "    <tr>\n",
              "      <th>2</th>\n",
              "      <td>Alfa Romeo</td>\n",
              "      <td>Giulia</td>\n",
              "      <td>2017</td>\n",
              "      <td>39</td>\n",
              "      <td>17</td>\n",
              "      <td>280</td>\n",
              "      <td>20</td>\n",
              "      <td>4</td>\n",
              "      <td>73</td>\n",
              "      <td>56</td>\n",
              "      <td>182</td>\n",
              "      <td>23</td>\n",
              "      <td>AWD</td>\n",
              "      <td>5</td>\n",
              "      <td>4</td>\n",
              "      <td>4dr</td>\n",
              "      <td>Sed.jpg</td>\n",
              "    </tr>\n",
              "    <tr>\n",
              "      <th>3</th>\n",
              "      <td>Chevrolet</td>\n",
              "      <td>Volt</td>\n",
              "      <td>2016</td>\n",
              "      <td>33</td>\n",
              "      <td>17</td>\n",
              "      <td>140</td>\n",
              "      <td>15</td>\n",
              "      <td>4</td>\n",
              "      <td>71</td>\n",
              "      <td>56</td>\n",
              "      <td>180</td>\n",
              "      <td>43</td>\n",
              "      <td>FWD</td>\n",
              "      <td>5</td>\n",
              "      <td>4</td>\n",
              "      <td>4dr</td>\n",
              "      <td>EuI.jpg</td>\n",
              "    </tr>\n",
              "    <tr>\n",
              "      <th>4</th>\n",
              "      <td>Nissan</td>\n",
              "      <td>Sentra</td>\n",
              "      <td>2017</td>\n",
              "      <td>24</td>\n",
              "      <td>18</td>\n",
              "      <td>180</td>\n",
              "      <td>16</td>\n",
              "      <td>4</td>\n",
              "      <td>69</td>\n",
              "      <td>58</td>\n",
              "      <td>183</td>\n",
              "      <td>25</td>\n",
              "      <td>FWD</td>\n",
              "      <td>5</td>\n",
              "      <td>4</td>\n",
              "      <td>4dr</td>\n",
              "      <td>IaF.jpg</td>\n",
              "    </tr>\n",
              "  </tbody>\n",
              "</table>\n",
              "</div>"
            ],
            "text/plain": [
              "              0       1     2   3   4    5   ...  11   12 13 14   15       16\n",
              "0           Ford  Fiesta  2016  14  15  120  ...  28  FWD  5  4  4dr  ZBk.jpg\n",
              "1  Mercedes-Benz  Metris  2020  31  17  200  ...  20  RWD  2  3  Van  Yfb.jpg\n",
              "2     Alfa Romeo  Giulia  2017  39  17  280  ...  23  AWD  5  4  4dr  Sed.jpg\n",
              "3      Chevrolet    Volt  2016  33  17  140  ...  43  FWD  5  4  4dr  EuI.jpg\n",
              "4         Nissan  Sentra  2017  24  18  180  ...  25  FWD  5  4  4dr  IaF.jpg\n",
              "\n",
              "[5 rows x 17 columns]"
            ]
          },
          "metadata": {
            "tags": []
          },
          "execution_count": 26
        }
      ]
    },
    {
      "cell_type": "code",
      "metadata": {
        "id": "b2RKk1MCM9iZ",
        "colab_type": "code",
        "colab": {
          "base_uri": "https://localhost:8080/",
          "height": 254
        },
        "outputId": "59fa6bbe-7fa9-48a4-ba13-0141d9fbf137"
      },
      "source": [
        "DataFrameOfCarData.columns = ['Make', 'Model', 'Year', 'MSRP', 'Front Wheel Size (in)', 'SAE Net Horsepower @ RPM', 'Displacement', 'Engine Type', 'Width, Max w/o mirrors (in)', 'Height, Overall (in)', 'Length, Overall (in)', 'Gas Mileage', 'Drivetrain', 'Passenger Capacity', 'Passenger Doors', 'Body Style','ID']\n",
        "DataFrameOfCarData['ID'] = DataFrameOfCarData['ID'].str.split('.').str[0] \n",
        "DataFrameOfCarData.head()"
      ],
      "execution_count": 27,
      "outputs": [
        {
          "output_type": "execute_result",
          "data": {
            "text/html": [
              "<div>\n",
              "<style scoped>\n",
              "    .dataframe tbody tr th:only-of-type {\n",
              "        vertical-align: middle;\n",
              "    }\n",
              "\n",
              "    .dataframe tbody tr th {\n",
              "        vertical-align: top;\n",
              "    }\n",
              "\n",
              "    .dataframe thead th {\n",
              "        text-align: right;\n",
              "    }\n",
              "</style>\n",
              "<table border=\"1\" class=\"dataframe\">\n",
              "  <thead>\n",
              "    <tr style=\"text-align: right;\">\n",
              "      <th></th>\n",
              "      <th>Make</th>\n",
              "      <th>Model</th>\n",
              "      <th>Year</th>\n",
              "      <th>MSRP</th>\n",
              "      <th>Front Wheel Size (in)</th>\n",
              "      <th>SAE Net Horsepower @ RPM</th>\n",
              "      <th>Displacement</th>\n",
              "      <th>Engine Type</th>\n",
              "      <th>Width, Max w/o mirrors (in)</th>\n",
              "      <th>Height, Overall (in)</th>\n",
              "      <th>Length, Overall (in)</th>\n",
              "      <th>Gas Mileage</th>\n",
              "      <th>Drivetrain</th>\n",
              "      <th>Passenger Capacity</th>\n",
              "      <th>Passenger Doors</th>\n",
              "      <th>Body Style</th>\n",
              "      <th>ID</th>\n",
              "    </tr>\n",
              "  </thead>\n",
              "  <tbody>\n",
              "    <tr>\n",
              "      <th>0</th>\n",
              "      <td>Ford</td>\n",
              "      <td>Fiesta</td>\n",
              "      <td>2016</td>\n",
              "      <td>14</td>\n",
              "      <td>15</td>\n",
              "      <td>120</td>\n",
              "      <td>16</td>\n",
              "      <td>4</td>\n",
              "      <td>67</td>\n",
              "      <td>58</td>\n",
              "      <td>173</td>\n",
              "      <td>28</td>\n",
              "      <td>FWD</td>\n",
              "      <td>5</td>\n",
              "      <td>4</td>\n",
              "      <td>4dr</td>\n",
              "      <td>ZBk</td>\n",
              "    </tr>\n",
              "    <tr>\n",
              "      <th>1</th>\n",
              "      <td>Mercedes-Benz</td>\n",
              "      <td>Metris</td>\n",
              "      <td>2020</td>\n",
              "      <td>31</td>\n",
              "      <td>17</td>\n",
              "      <td>200</td>\n",
              "      <td>20</td>\n",
              "      <td>4</td>\n",
              "      <td>75</td>\n",
              "      <td>75</td>\n",
              "      <td>202</td>\n",
              "      <td>20</td>\n",
              "      <td>RWD</td>\n",
              "      <td>2</td>\n",
              "      <td>3</td>\n",
              "      <td>Van</td>\n",
              "      <td>Yfb</td>\n",
              "    </tr>\n",
              "    <tr>\n",
              "      <th>2</th>\n",
              "      <td>Alfa Romeo</td>\n",
              "      <td>Giulia</td>\n",
              "      <td>2017</td>\n",
              "      <td>39</td>\n",
              "      <td>17</td>\n",
              "      <td>280</td>\n",
              "      <td>20</td>\n",
              "      <td>4</td>\n",
              "      <td>73</td>\n",
              "      <td>56</td>\n",
              "      <td>182</td>\n",
              "      <td>23</td>\n",
              "      <td>AWD</td>\n",
              "      <td>5</td>\n",
              "      <td>4</td>\n",
              "      <td>4dr</td>\n",
              "      <td>Sed</td>\n",
              "    </tr>\n",
              "    <tr>\n",
              "      <th>3</th>\n",
              "      <td>Chevrolet</td>\n",
              "      <td>Volt</td>\n",
              "      <td>2016</td>\n",
              "      <td>33</td>\n",
              "      <td>17</td>\n",
              "      <td>140</td>\n",
              "      <td>15</td>\n",
              "      <td>4</td>\n",
              "      <td>71</td>\n",
              "      <td>56</td>\n",
              "      <td>180</td>\n",
              "      <td>43</td>\n",
              "      <td>FWD</td>\n",
              "      <td>5</td>\n",
              "      <td>4</td>\n",
              "      <td>4dr</td>\n",
              "      <td>EuI</td>\n",
              "    </tr>\n",
              "    <tr>\n",
              "      <th>4</th>\n",
              "      <td>Nissan</td>\n",
              "      <td>Sentra</td>\n",
              "      <td>2017</td>\n",
              "      <td>24</td>\n",
              "      <td>18</td>\n",
              "      <td>180</td>\n",
              "      <td>16</td>\n",
              "      <td>4</td>\n",
              "      <td>69</td>\n",
              "      <td>58</td>\n",
              "      <td>183</td>\n",
              "      <td>25</td>\n",
              "      <td>FWD</td>\n",
              "      <td>5</td>\n",
              "      <td>4</td>\n",
              "      <td>4dr</td>\n",
              "      <td>IaF</td>\n",
              "    </tr>\n",
              "  </tbody>\n",
              "</table>\n",
              "</div>"
            ],
            "text/plain": [
              "            Make   Model  Year  ... Passenger Doors Body Style   ID\n",
              "0           Ford  Fiesta  2016  ...               4        4dr  ZBk\n",
              "1  Mercedes-Benz  Metris  2020  ...               3        Van  Yfb\n",
              "2     Alfa Romeo  Giulia  2017  ...               4        4dr  Sed\n",
              "3      Chevrolet    Volt  2016  ...               4        4dr  EuI\n",
              "4         Nissan  Sentra  2017  ...               4        4dr  IaF\n",
              "\n",
              "[5 rows x 17 columns]"
            ]
          },
          "metadata": {
            "tags": []
          },
          "execution_count": 27
        }
      ]
    },
    {
      "cell_type": "code",
      "metadata": {
        "id": "WYEpBaj5P0_1",
        "colab_type": "code",
        "colab": {}
      },
      "source": [
        ""
      ],
      "execution_count": null,
      "outputs": []
    }
  ]
}