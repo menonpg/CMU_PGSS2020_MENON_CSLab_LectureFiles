{
  "nbformat": 4,
  "nbformat_minor": 0,
  "metadata": {
    "colab": {
      "name": "CarDataAnalysis_01.ipynb",
      "provenance": [],
      "collapsed_sections": []
    },
    "kernelspec": {
      "name": "python3",
      "display_name": "Python 3"
    }
  },
  "cells": [
    {
      "cell_type": "code",
      "metadata": {
        "id": "GC-op53nKy7W",
        "colab_type": "code",
        "colab": {
          "base_uri": "https://localhost:8080/",
          "height": 124
        },
        "outputId": "97a263b4-4a2e-407a-a763-0d872d502eec"
      },
      "source": [
        "from google.colab import drive\n",
        "drive.mount('/content/drive', force_remount=True)"
      ],
      "execution_count": 1,
      "outputs": [
        {
          "output_type": "stream",
          "text": [
            "Go to this URL in a browser: https://accounts.google.com/o/oauth2/auth?client_id=947318989803-6bn6qk8qdgf4n4g3pfee6491hc0brc4i.apps.googleusercontent.com&redirect_uri=urn%3aietf%3awg%3aoauth%3a2.0%3aoob&response_type=code&scope=email%20https%3a%2f%2fwww.googleapis.com%2fauth%2fdocs.test%20https%3a%2f%2fwww.googleapis.com%2fauth%2fdrive%20https%3a%2f%2fwww.googleapis.com%2fauth%2fdrive.photos.readonly%20https%3a%2f%2fwww.googleapis.com%2fauth%2fpeopleapi.readonly\n",
            "\n",
            "Enter your authorization code:\n",
            "··········\n",
            "Mounted at /content/drive\n"
          ],
          "name": "stdout"
        }
      ]
    },
    {
      "cell_type": "code",
      "metadata": {
        "id": "Xjvwd76WLFRp",
        "colab_type": "code",
        "colab": {}
      },
      "source": [
        "!cp /content/drive/My\\ Drive/L7andL8/thecarconnectionpicturedataset.rar /content/"
      ],
      "execution_count": 6,
      "outputs": []
    },
    {
      "cell_type": "code",
      "metadata": {
        "id": "E5FqROphLWpu",
        "colab_type": "code",
        "colab": {
          "base_uri": "https://localhost:8080/",
          "height": 104
        },
        "outputId": "1400865f-b5a6-4f7b-e2dc-ccadfddcad75"
      },
      "source": [
        "!pip install patool"
      ],
      "execution_count": 7,
      "outputs": [
        {
          "output_type": "stream",
          "text": [
            "Collecting patool\n",
            "\u001b[?25l  Downloading https://files.pythonhosted.org/packages/43/94/52243ddff508780dd2d8110964320ab4851134a55ab102285b46e740f76a/patool-1.12-py2.py3-none-any.whl (77kB)\n",
            "\r\u001b[K     |████▎                           | 10kB 19.9MB/s eta 0:00:01\r\u001b[K     |████████▌                       | 20kB 1.7MB/s eta 0:00:01\r\u001b[K     |████████████▊                   | 30kB 2.3MB/s eta 0:00:01\r\u001b[K     |█████████████████               | 40kB 2.5MB/s eta 0:00:01\r\u001b[K     |█████████████████████▏          | 51kB 2.0MB/s eta 0:00:01\r\u001b[K     |█████████████████████████▍      | 61kB 2.3MB/s eta 0:00:01\r\u001b[K     |█████████████████████████████▋  | 71kB 2.5MB/s eta 0:00:01\r\u001b[K     |████████████████████████████████| 81kB 2.3MB/s \n",
            "\u001b[?25hInstalling collected packages: patool\n",
            "Successfully installed patool-1.12\n"
          ],
          "name": "stdout"
        }
      ]
    },
    {
      "cell_type": "code",
      "metadata": {
        "id": "_RYUC4DwLwVm",
        "colab_type": "code",
        "colab": {}
      },
      "source": [
        "!mkdir /content/CarImages/"
      ],
      "execution_count": 8,
      "outputs": []
    },
    {
      "cell_type": "code",
      "metadata": {
        "id": "_m0dmLDMLzW1",
        "colab_type": "code",
        "colab": {
          "base_uri": "https://localhost:8080/",
          "height": 105
        },
        "outputId": "bb7c9dbd-6c9f-423c-d812-321ad0d59a96"
      },
      "source": [
        "import patoolib\n",
        "patoolib.extract_archive('/content/thecarconnectionpicturedataset.rar', outdir='/content/CarImages/')"
      ],
      "execution_count": 9,
      "outputs": [
        {
          "output_type": "stream",
          "text": [
            "patool: Extracting /content/thecarconnectionpicturedataset.rar ...\n",
            "patool: running /usr/bin/unrar x -- /content/thecarconnectionpicturedataset.rar\n",
            "patool:     with cwd='/content/CarImages/'\n",
            "patool: ... /content/thecarconnectionpicturedataset.rar extracted to `/content/CarImages/'.\n"
          ],
          "name": "stdout"
        },
        {
          "output_type": "execute_result",
          "data": {
            "application/vnd.google.colaboratory.intrinsic+json": {
              "type": "string"
            },
            "text/plain": [
              "'/content/CarImages/'"
            ]
          },
          "metadata": {
            "tags": []
          },
          "execution_count": 9
        }
      ]
    },
    {
      "cell_type": "markdown",
      "metadata": {
        "id": "4ftssyorO4cH",
        "colab_type": "text"
      },
      "source": [
        "# Create an array of unstructured data and analyze it WITHOUT explicitly creating a table first.  "
      ]
    },
    {
      "cell_type": "code",
      "metadata": {
        "id": "Q3z9LkbzL4EV",
        "colab_type": "code",
        "colab": {
          "base_uri": "https://localhost:8080/",
          "height": 55
        },
        "outputId": "83f7315b-900c-48ea-d133-0a198f74095c"
      },
      "source": [
        "import os\n",
        "arr = os.listdir('/content/CarImages/')\n",
        "print(arr[:10])"
      ],
      "execution_count": 10,
      "outputs": [
        {
          "output_type": "stream",
          "text": [
            "['Ford_Fiesta_2016_14_15_120_16_4_67_58_173_28_FWD_5_4_4dr_ZBk.jpg', 'Mercedes-Benz_Metris_2020_31_17_200_20_4_75_75_202_20_RWD_2_3_Van_Yfb.jpg', 'Alfa Romeo_Giulia_2017_39_17_280_20_4_73_56_182_23_AWD_5_4_4dr_Sed.jpg', 'Chevrolet_Volt_2016_33_17_140_15_4_71_56_180_43_FWD_5_4_4dr_EuI.jpg', 'Nissan_Sentra_2017_24_18_180_16_4_69_58_183_25_FWD_5_4_4dr_IaF.jpg', 'Kia_Sportage_2017_27_18_180_24_4_73_65_176_21_AWD_5_4_SUV_tBW.jpg', 'MINI_Clubman_2019_26_16_130_15_3_70_56_168_22_AWD_5_4_4dr_oMG.jpg', 'Honda_Accord_2013_25_17_180_24_4_72_56_189_26_FWD_5_2_2dr_rPZ.jpg', 'Subaru_Impreza_2011_18_16_170_25_4_68_58_180_20_AWD_5_4_4dr_Nxx.jpg', 'Mitsubishi_Eclipse Cross_2019_23_16_150_15_4_71_66_173_26_FWD_5_4_SUV_IMu.jpg']\n"
          ],
          "name": "stdout"
        }
      ]
    },
    {
      "cell_type": "code",
      "metadata": {
        "id": "PzQUFhC7MZbl",
        "colab_type": "code",
        "colab": {}
      },
      "source": [
        "# 'Make', 'Model', 'Year', 'MSRP', 'Front Wheel Size (in)', 'SAE Net Horsepower @ RPM', 'Displacement', 'Engine Type', 'Width, Max w/o mirrors (in)', 'Height, Overall (in)', 'Length, Overall (in)', 'Gas Mileage', 'Drivetrain', 'Passenger Capacity', 'Passenger Doors', 'Body Style'"
      ],
      "execution_count": 11,
      "outputs": []
    },
    {
      "cell_type": "code",
      "metadata": {
        "id": "e29D2V12MiZV",
        "colab_type": "code",
        "colab": {
          "base_uri": "https://localhost:8080/",
          "height": 503
        },
        "outputId": "a49ca2ae-8c20-4b97-edec-a551dd65dd28"
      },
      "source": [
        "# Exploring the filename strings after parsing out just the first word of the filename - which represents the brand of the vehicle. \n",
        "\n",
        "import pandas as pd\n",
        "df = pd.DataFrame({'filename': arr})\n",
        "# df['filename'].str.split('_').str[0].str.split('_').str[-1]  \n",
        "\n",
        "# How many images of each car type do we have?         \n",
        "df['filename'].str.split('_').str[2].value_counts()"
      ],
      "execution_count": 25,
      "outputs": [
        {
          "output_type": "execute_result",
          "data": {
            "text/plain": [
              "2019    10224\n",
              "2011     9090\n",
              "2017     7965\n",
              "2016     6453\n",
              "2015     6284\n",
              "2014     5606\n",
              "2020     5562\n",
              "2012     5112\n",
              "2013     4691\n",
              "2010     1938\n",
              "2009      351\n",
              "2005      273\n",
              "2008      224\n",
              "2006      175\n",
              "2004      152\n",
              "2007      123\n",
              "2003       64\n",
              "2001       39\n",
              "1999       36\n",
              "2000       34\n",
              "2002       28\n",
              "1998       25\n",
              "1997       10\n",
              "1990        3\n",
              "1995        2\n",
              "1996        2\n",
              "1994        1\n",
              "Name: filename, dtype: int64"
            ]
          },
          "metadata": {
            "tags": []
          },
          "execution_count": 25
        }
      ]
    },
    {
      "cell_type": "code",
      "metadata": {
        "id": "YmVGvCEMM4yF",
        "colab_type": "code",
        "colab": {
          "base_uri": "https://localhost:8080/",
          "height": 202
        },
        "outputId": "ec889d32-249b-4767-a4d7-d3f798d30108"
      },
      "source": [
        "DataFrameOfCarData = pd.DataFrame(df['filename'].str.split('_').tolist(), index= df.index)\n",
        "DataFrameOfCarData.head()"
      ],
      "execution_count": 26,
      "outputs": [
        {
          "output_type": "execute_result",
          "data": {
            "text/html": [
              "<div>\n",
              "<style scoped>\n",
              "    .dataframe tbody tr th:only-of-type {\n",
              "        vertical-align: middle;\n",
              "    }\n",
              "\n",
              "    .dataframe tbody tr th {\n",
              "        vertical-align: top;\n",
              "    }\n",
              "\n",
              "    .dataframe thead th {\n",
              "        text-align: right;\n",
              "    }\n",
              "</style>\n",
              "<table border=\"1\" class=\"dataframe\">\n",
              "  <thead>\n",
              "    <tr style=\"text-align: right;\">\n",
              "      <th></th>\n",
              "      <th>0</th>\n",
              "      <th>1</th>\n",
              "      <th>2</th>\n",
              "      <th>3</th>\n",
              "      <th>4</th>\n",
              "      <th>5</th>\n",
              "      <th>6</th>\n",
              "      <th>7</th>\n",
              "      <th>8</th>\n",
              "      <th>9</th>\n",
              "      <th>10</th>\n",
              "      <th>11</th>\n",
              "      <th>12</th>\n",
              "      <th>13</th>\n",
              "      <th>14</th>\n",
              "      <th>15</th>\n",
              "      <th>16</th>\n",
              "    </tr>\n",
              "  </thead>\n",
              "  <tbody>\n",
              "    <tr>\n",
              "      <th>0</th>\n",
              "      <td>Ford</td>\n",
              "      <td>Fiesta</td>\n",
              "      <td>2016</td>\n",
              "      <td>14</td>\n",
              "      <td>15</td>\n",
              "      <td>120</td>\n",
              "      <td>16</td>\n",
              "      <td>4</td>\n",
              "      <td>67</td>\n",
              "      <td>58</td>\n",
              "      <td>173</td>\n",
              "      <td>28</td>\n",
              "      <td>FWD</td>\n",
              "      <td>5</td>\n",
              "      <td>4</td>\n",
              "      <td>4dr</td>\n",
              "      <td>ZBk.jpg</td>\n",
              "    </tr>\n",
              "    <tr>\n",
              "      <th>1</th>\n",
              "      <td>Mercedes-Benz</td>\n",
              "      <td>Metris</td>\n",
              "      <td>2020</td>\n",
              "      <td>31</td>\n",
              "      <td>17</td>\n",
              "      <td>200</td>\n",
              "      <td>20</td>\n",
              "      <td>4</td>\n",
              "      <td>75</td>\n",
              "      <td>75</td>\n",
              "      <td>202</td>\n",
              "      <td>20</td>\n",
              "      <td>RWD</td>\n",
              "      <td>2</td>\n",
              "      <td>3</td>\n",
              "      <td>Van</td>\n",
              "      <td>Yfb.jpg</td>\n",
              "    </tr>\n",
              "    <tr>\n",
              "      <th>2</th>\n",
              "      <td>Alfa Romeo</td>\n",
              "      <td>Giulia</td>\n",
              "      <td>2017</td>\n",
              "      <td>39</td>\n",
              "      <td>17</td>\n",
              "      <td>280</td>\n",
              "      <td>20</td>\n",
              "      <td>4</td>\n",
              "      <td>73</td>\n",
              "      <td>56</td>\n",
              "      <td>182</td>\n",
              "      <td>23</td>\n",
              "      <td>AWD</td>\n",
              "      <td>5</td>\n",
              "      <td>4</td>\n",
              "      <td>4dr</td>\n",
              "      <td>Sed.jpg</td>\n",
              "    </tr>\n",
              "    <tr>\n",
              "      <th>3</th>\n",
              "      <td>Chevrolet</td>\n",
              "      <td>Volt</td>\n",
              "      <td>2016</td>\n",
              "      <td>33</td>\n",
              "      <td>17</td>\n",
              "      <td>140</td>\n",
              "      <td>15</td>\n",
              "      <td>4</td>\n",
              "      <td>71</td>\n",
              "      <td>56</td>\n",
              "      <td>180</td>\n",
              "      <td>43</td>\n",
              "      <td>FWD</td>\n",
              "      <td>5</td>\n",
              "      <td>4</td>\n",
              "      <td>4dr</td>\n",
              "      <td>EuI.jpg</td>\n",
              "    </tr>\n",
              "    <tr>\n",
              "      <th>4</th>\n",
              "      <td>Nissan</td>\n",
              "      <td>Sentra</td>\n",
              "      <td>2017</td>\n",
              "      <td>24</td>\n",
              "      <td>18</td>\n",
              "      <td>180</td>\n",
              "      <td>16</td>\n",
              "      <td>4</td>\n",
              "      <td>69</td>\n",
              "      <td>58</td>\n",
              "      <td>183</td>\n",
              "      <td>25</td>\n",
              "      <td>FWD</td>\n",
              "      <td>5</td>\n",
              "      <td>4</td>\n",
              "      <td>4dr</td>\n",
              "      <td>IaF.jpg</td>\n",
              "    </tr>\n",
              "  </tbody>\n",
              "</table>\n",
              "</div>"
            ],
            "text/plain": [
              "              0       1     2   3   4    5   ...  11   12 13 14   15       16\n",
              "0           Ford  Fiesta  2016  14  15  120  ...  28  FWD  5  4  4dr  ZBk.jpg\n",
              "1  Mercedes-Benz  Metris  2020  31  17  200  ...  20  RWD  2  3  Van  Yfb.jpg\n",
              "2     Alfa Romeo  Giulia  2017  39  17  280  ...  23  AWD  5  4  4dr  Sed.jpg\n",
              "3      Chevrolet    Volt  2016  33  17  140  ...  43  FWD  5  4  4dr  EuI.jpg\n",
              "4         Nissan  Sentra  2017  24  18  180  ...  25  FWD  5  4  4dr  IaF.jpg\n",
              "\n",
              "[5 rows x 17 columns]"
            ]
          },
          "metadata": {
            "tags": []
          },
          "execution_count": 26
        }
      ]
    },
    {
      "cell_type": "code",
      "metadata": {
        "id": "b2RKk1MCM9iZ",
        "colab_type": "code",
        "colab": {
          "base_uri": "https://localhost:8080/",
          "height": 254
        },
        "outputId": "e1b28928-b8c5-4045-fe74-fd6b7652e08f"
      },
      "source": [
        "DataFrameOfCarData.columns = ['Make', 'Model', 'Year', 'MSRP', 'Front Wheel Size (in)', 'SAE Net Horsepower @ RPM', 'Displacement', 'Engine Type', 'Width, Max w/o mirrors (in)', 'Height, Overall (in)', 'Length, Overall (in)', 'Gas Mileage', 'Drivetrain', 'Passenger Capacity', 'Passenger Doors', 'Body Style','ID']\n",
        "DataFrameOfCarData['ID'] = DataFrameOfCarData['ID'].str.split('.').str[0] \n",
        "DataFrameOfCarData.head()"
      ],
      "execution_count": 47,
      "outputs": [
        {
          "output_type": "execute_result",
          "data": {
            "text/html": [
              "<div>\n",
              "<style scoped>\n",
              "    .dataframe tbody tr th:only-of-type {\n",
              "        vertical-align: middle;\n",
              "    }\n",
              "\n",
              "    .dataframe tbody tr th {\n",
              "        vertical-align: top;\n",
              "    }\n",
              "\n",
              "    .dataframe thead th {\n",
              "        text-align: right;\n",
              "    }\n",
              "</style>\n",
              "<table border=\"1\" class=\"dataframe\">\n",
              "  <thead>\n",
              "    <tr style=\"text-align: right;\">\n",
              "      <th></th>\n",
              "      <th>Make</th>\n",
              "      <th>Model</th>\n",
              "      <th>Year</th>\n",
              "      <th>MSRP</th>\n",
              "      <th>Front Wheel Size (in)</th>\n",
              "      <th>SAE Net Horsepower @ RPM</th>\n",
              "      <th>Displacement</th>\n",
              "      <th>Engine Type</th>\n",
              "      <th>Width, Max w/o mirrors (in)</th>\n",
              "      <th>Height, Overall (in)</th>\n",
              "      <th>Length, Overall (in)</th>\n",
              "      <th>Gas Mileage</th>\n",
              "      <th>Drivetrain</th>\n",
              "      <th>Passenger Capacity</th>\n",
              "      <th>Passenger Doors</th>\n",
              "      <th>Body Style</th>\n",
              "      <th>ID</th>\n",
              "    </tr>\n",
              "  </thead>\n",
              "  <tbody>\n",
              "    <tr>\n",
              "      <th>0</th>\n",
              "      <td>Ford</td>\n",
              "      <td>Fiesta</td>\n",
              "      <td>2016</td>\n",
              "      <td>14.0</td>\n",
              "      <td>15</td>\n",
              "      <td>120</td>\n",
              "      <td>16</td>\n",
              "      <td>4</td>\n",
              "      <td>67</td>\n",
              "      <td>58</td>\n",
              "      <td>173</td>\n",
              "      <td>28</td>\n",
              "      <td>FWD</td>\n",
              "      <td>5</td>\n",
              "      <td>4</td>\n",
              "      <td>4dr</td>\n",
              "      <td>ZBk</td>\n",
              "    </tr>\n",
              "    <tr>\n",
              "      <th>1</th>\n",
              "      <td>Mercedes-Benz</td>\n",
              "      <td>Metris</td>\n",
              "      <td>2020</td>\n",
              "      <td>31.0</td>\n",
              "      <td>17</td>\n",
              "      <td>200</td>\n",
              "      <td>20</td>\n",
              "      <td>4</td>\n",
              "      <td>75</td>\n",
              "      <td>75</td>\n",
              "      <td>202</td>\n",
              "      <td>20</td>\n",
              "      <td>RWD</td>\n",
              "      <td>2</td>\n",
              "      <td>3</td>\n",
              "      <td>Van</td>\n",
              "      <td>Yfb</td>\n",
              "    </tr>\n",
              "    <tr>\n",
              "      <th>2</th>\n",
              "      <td>Alfa Romeo</td>\n",
              "      <td>Giulia</td>\n",
              "      <td>2017</td>\n",
              "      <td>39.0</td>\n",
              "      <td>17</td>\n",
              "      <td>280</td>\n",
              "      <td>20</td>\n",
              "      <td>4</td>\n",
              "      <td>73</td>\n",
              "      <td>56</td>\n",
              "      <td>182</td>\n",
              "      <td>23</td>\n",
              "      <td>AWD</td>\n",
              "      <td>5</td>\n",
              "      <td>4</td>\n",
              "      <td>4dr</td>\n",
              "      <td>Sed</td>\n",
              "    </tr>\n",
              "    <tr>\n",
              "      <th>3</th>\n",
              "      <td>Chevrolet</td>\n",
              "      <td>Volt</td>\n",
              "      <td>2016</td>\n",
              "      <td>33.0</td>\n",
              "      <td>17</td>\n",
              "      <td>140</td>\n",
              "      <td>15</td>\n",
              "      <td>4</td>\n",
              "      <td>71</td>\n",
              "      <td>56</td>\n",
              "      <td>180</td>\n",
              "      <td>43</td>\n",
              "      <td>FWD</td>\n",
              "      <td>5</td>\n",
              "      <td>4</td>\n",
              "      <td>4dr</td>\n",
              "      <td>EuI</td>\n",
              "    </tr>\n",
              "    <tr>\n",
              "      <th>4</th>\n",
              "      <td>Nissan</td>\n",
              "      <td>Sentra</td>\n",
              "      <td>2017</td>\n",
              "      <td>24.0</td>\n",
              "      <td>18</td>\n",
              "      <td>180</td>\n",
              "      <td>16</td>\n",
              "      <td>4</td>\n",
              "      <td>69</td>\n",
              "      <td>58</td>\n",
              "      <td>183</td>\n",
              "      <td>25</td>\n",
              "      <td>FWD</td>\n",
              "      <td>5</td>\n",
              "      <td>4</td>\n",
              "      <td>4dr</td>\n",
              "      <td>IaF</td>\n",
              "    </tr>\n",
              "  </tbody>\n",
              "</table>\n",
              "</div>"
            ],
            "text/plain": [
              "            Make   Model  Year  ...  Passenger Doors Body Style   ID\n",
              "0           Ford  Fiesta  2016  ...                4        4dr  ZBk\n",
              "1  Mercedes-Benz  Metris  2020  ...                3        Van  Yfb\n",
              "2     Alfa Romeo  Giulia  2017  ...                4        4dr  Sed\n",
              "3      Chevrolet    Volt  2016  ...                4        4dr  EuI\n",
              "4         Nissan  Sentra  2017  ...                4        4dr  IaF\n",
              "\n",
              "[5 rows x 17 columns]"
            ]
          },
          "metadata": {
            "tags": []
          },
          "execution_count": 47
        }
      ]
    },
    {
      "cell_type": "code",
      "metadata": {
        "id": "8-ZloXtISJIO",
        "colab_type": "code",
        "colab": {}
      },
      "source": [
        "# DataFrameOfCarData['MSRP'] = DataFrameOfCarData['MSRP'].astype(float)\n",
        "\n",
        "convert_dict = { 'Year':int, 'MSRP':float, 'Front Wheel Size (in)':float, 'SAE Net Horsepower @ RPM':float, 'Displacement':float, \n",
        "                'Engine Type':float, 'Width, Max w/o mirrors (in)':float, \n",
        "                'Height, Overall (in)':float, 'Length, Overall (in)':float, 'Gas Mileage':float, \n",
        "                 'Passenger Capacity':int, 'Passenger Doors':int }\n",
        "\n",
        "DataFrameOfCarData = DataFrameOfCarData.astype(convert_dict, errors='ignore')                 "
      ],
      "execution_count": 60,
      "outputs": []
    },
    {
      "cell_type": "code",
      "metadata": {
        "id": "tN5EzSoeR1R5",
        "colab_type": "code",
        "colab": {
          "base_uri": "https://localhost:8080/",
          "height": 433
        },
        "outputId": "cf799ad6-caea-4ec1-fb72-eb193e41ac3b"
      },
      "source": [
        "DataFrameOfCarData.info()"
      ],
      "execution_count": 59,
      "outputs": [
        {
          "output_type": "stream",
          "text": [
            "<class 'pandas.core.frame.DataFrame'>\n",
            "RangeIndex: 64467 entries, 0 to 64466\n",
            "Data columns (total 17 columns):\n",
            " #   Column                       Non-Null Count  Dtype  \n",
            "---  ------                       --------------  -----  \n",
            " 0   Make                         64467 non-null  object \n",
            " 1   Model                        64467 non-null  object \n",
            " 2   Year                         64467 non-null  int64  \n",
            " 3   MSRP                         63673 non-null  float64\n",
            " 4   Front Wheel Size (in)        63732 non-null  float64\n",
            " 5   SAE Net Horsepower @ RPM     64467 non-null  object \n",
            " 6   Displacement                 62257 non-null  float64\n",
            " 7   Engine Type                  62145 non-null  float64\n",
            " 8   Width, Max w/o mirrors (in)  64467 non-null  object \n",
            " 9   Height, Overall (in)         64467 non-null  object \n",
            " 10  Length, Overall (in)         64467 non-null  object \n",
            " 11  Gas Mileage                  57494 non-null  float64\n",
            " 12  Drivetrain                   64467 non-null  object \n",
            " 13  Passenger Capacity           64467 non-null  object \n",
            " 14  Passenger Doors              64467 non-null  object \n",
            " 15  Body Style                   64467 non-null  object \n",
            " 16  ID                           64467 non-null  object \n",
            "dtypes: float64(5), int64(1), object(11)\n",
            "memory usage: 8.4+ MB\n"
          ],
          "name": "stdout"
        }
      ]
    },
    {
      "cell_type": "code",
      "metadata": {
        "id": "BxIsj3RRUpQK",
        "colab_type": "code",
        "colab": {}
      },
      "source": [
        "# DataFrameOfCarData['SAE Net Horsepower @ RPM'].value_counts()\n",
        "# DataFrameOfCarData['SAE Net Horsepower @ RPM'] = float(DataFrameOfCarData['SAE Net Horsepower @ RPM'])"
      ],
      "execution_count": 66,
      "outputs": []
    },
    {
      "cell_type": "code",
      "metadata": {
        "id": "5N7YKx4lUpTI",
        "colab_type": "code",
        "colab": {}
      },
      "source": [
        "DataFrameOfCarData.to_csv(\"DataFrameOfCarData_toProcessinR.csv\")  # Export data for cleansing in R"
      ],
      "execution_count": 67,
      "outputs": []
    },
    {
      "cell_type": "code",
      "metadata": {
        "id": "hsWQF0qWV12Z",
        "colab_type": "code",
        "colab": {}
      },
      "source": [
        "!cp  /content/DataFrameOfCarData_toProcessinR.csv  /content/drive/My\\ Drive/L7andL8/"
      ],
      "execution_count": 68,
      "outputs": []
    },
    {
      "cell_type": "code",
      "metadata": {
        "id": "WYEpBaj5P0_1",
        "colab_type": "code",
        "colab": {
          "base_uri": "https://localhost:8080/",
          "height": 208
        },
        "outputId": "661e63e0-2a81-47ad-aa55-bd6fd4505d08"
      },
      "source": [
        "!pip install seaborn"
      ],
      "execution_count": 31,
      "outputs": [
        {
          "output_type": "stream",
          "text": [
            "Requirement already satisfied: seaborn in /usr/local/lib/python3.6/dist-packages (0.10.1)\n",
            "Requirement already satisfied: numpy>=1.13.3 in /usr/local/lib/python3.6/dist-packages (from seaborn) (1.18.5)\n",
            "Requirement already satisfied: pandas>=0.22.0 in /usr/local/lib/python3.6/dist-packages (from seaborn) (1.0.5)\n",
            "Requirement already satisfied: scipy>=1.0.1 in /usr/local/lib/python3.6/dist-packages (from seaborn) (1.4.1)\n",
            "Requirement already satisfied: matplotlib>=2.1.2 in /usr/local/lib/python3.6/dist-packages (from seaborn) (3.2.2)\n",
            "Requirement already satisfied: python-dateutil>=2.6.1 in /usr/local/lib/python3.6/dist-packages (from pandas>=0.22.0->seaborn) (2.8.1)\n",
            "Requirement already satisfied: pytz>=2017.2 in /usr/local/lib/python3.6/dist-packages (from pandas>=0.22.0->seaborn) (2018.9)\n",
            "Requirement already satisfied: kiwisolver>=1.0.1 in /usr/local/lib/python3.6/dist-packages (from matplotlib>=2.1.2->seaborn) (1.2.0)\n",
            "Requirement already satisfied: cycler>=0.10 in /usr/local/lib/python3.6/dist-packages (from matplotlib>=2.1.2->seaborn) (0.10.0)\n",
            "Requirement already satisfied: pyparsing!=2.0.4,!=2.1.2,!=2.1.6,>=2.0.1 in /usr/local/lib/python3.6/dist-packages (from matplotlib>=2.1.2->seaborn) (2.4.7)\n",
            "Requirement already satisfied: six>=1.5 in /usr/local/lib/python3.6/dist-packages (from python-dateutil>=2.6.1->pandas>=0.22.0->seaborn) (1.15.0)\n"
          ],
          "name": "stdout"
        }
      ]
    },
    {
      "cell_type": "code",
      "metadata": {
        "id": "6kiy4ebNQv40",
        "colab_type": "code",
        "colab": {
          "base_uri": "https://localhost:8080/",
          "height": 297
        },
        "outputId": "4acd4cfc-3294-4d12-8872-0c645f1e206f"
      },
      "source": [
        "import seaborn as sns\n",
        "import numpy as np\n",
        "\n",
        "df = DataFrameOfCarData.pivot_table(index='Body Style', columns='Drivetrain', values='MSRP', aggfunc=np.median)\n",
        "sns.heatmap(df, annot=True, fmt=\".1f\")"
      ],
      "execution_count": 40,
      "outputs": [
        {
          "output_type": "execute_result",
          "data": {
            "text/plain": [
              "<matplotlib.axes._subplots.AxesSubplot at 0x7faaf0a735c0>"
            ]
          },
          "metadata": {
            "tags": []
          },
          "execution_count": 40
        },
        {
          "output_type": "display_data",
          "data": {
            "image/png": "[encoded data removed]",
            "text/plain": [
              "<Figure size 432x288 with 2 Axes>"
            ]
          },
          "metadata": {
            "tags": [],
            "needs_background": "light"
          }
        }
      ]
    },
    {
      "cell_type": "markdown",
      "metadata": {
        "id": "1fKBBnwtYN9R",
        "colab_type": "text"
      },
      "source": [
        "# Analyze the cleaned data exported from R"
      ]
    },
    {
      "cell_type": "code",
      "metadata": {
        "id": "ctz7a8WsYQvX",
        "colab_type": "code",
        "colab": {}
      },
      "source": [
        "DataFrameOfCarData = pd.read_csv(\"/content/DataFrameOfCarData_toProcessedinR.csv\")"
      ],
      "execution_count": 70,
      "outputs": []
    },
    {
      "cell_type": "code",
      "metadata": {
        "id": "BUC76Cdzev_q",
        "colab_type": "code",
        "colab": {
          "base_uri": "https://localhost:8080/",
          "height": 271
        },
        "outputId": "60caada1-9f2b-4d0e-ebaf-1f5250b3080e"
      },
      "source": [
        "DataFrameOfCarData.head()"
      ],
      "execution_count": 84,
      "outputs": [
        {
          "output_type": "execute_result",
          "data": {
            "text/html": [
              "<div>\n",
              "<style scoped>\n",
              "    .dataframe tbody tr th:only-of-type {\n",
              "        vertical-align: middle;\n",
              "    }\n",
              "\n",
              "    .dataframe tbody tr th {\n",
              "        vertical-align: top;\n",
              "    }\n",
              "\n",
              "    .dataframe thead th {\n",
              "        text-align: right;\n",
              "    }\n",
              "</style>\n",
              "<table border=\"1\" class=\"dataframe\">\n",
              "  <thead>\n",
              "    <tr style=\"text-align: right;\">\n",
              "      <th></th>\n",
              "      <th>Unnamed: 0</th>\n",
              "      <th>Make</th>\n",
              "      <th>Model</th>\n",
              "      <th>Year</th>\n",
              "      <th>MSRP</th>\n",
              "      <th>Front Wheel Size (in)</th>\n",
              "      <th>SAE Net Horsepower @ RPM</th>\n",
              "      <th>Displacement</th>\n",
              "      <th>Engine Type</th>\n",
              "      <th>Width, Max w/o mirrors (in)</th>\n",
              "      <th>Height, Overall (in)</th>\n",
              "      <th>Length, Overall (in)</th>\n",
              "      <th>Gas Mileage</th>\n",
              "      <th>Drivetrain</th>\n",
              "      <th>Passenger Capacity</th>\n",
              "      <th>Passenger Doors</th>\n",
              "      <th>Body Style</th>\n",
              "      <th>ID</th>\n",
              "    </tr>\n",
              "  </thead>\n",
              "  <tbody>\n",
              "    <tr>\n",
              "      <th>0</th>\n",
              "      <td>1</td>\n",
              "      <td>Ford</td>\n",
              "      <td>Fiesta</td>\n",
              "      <td>2016</td>\n",
              "      <td>14.0</td>\n",
              "      <td>15.0</td>\n",
              "      <td>120.0</td>\n",
              "      <td>16.0</td>\n",
              "      <td>4.0</td>\n",
              "      <td>67.0</td>\n",
              "      <td>58.0</td>\n",
              "      <td>173.0</td>\n",
              "      <td>28.0</td>\n",
              "      <td>FWD</td>\n",
              "      <td>5.0</td>\n",
              "      <td>4.0</td>\n",
              "      <td>4dr</td>\n",
              "      <td>ZBk</td>\n",
              "    </tr>\n",
              "    <tr>\n",
              "      <th>1</th>\n",
              "      <td>2</td>\n",
              "      <td>Mercedes-Benz</td>\n",
              "      <td>Metris</td>\n",
              "      <td>2020</td>\n",
              "      <td>31.0</td>\n",
              "      <td>17.0</td>\n",
              "      <td>200.0</td>\n",
              "      <td>20.0</td>\n",
              "      <td>4.0</td>\n",
              "      <td>75.0</td>\n",
              "      <td>75.0</td>\n",
              "      <td>202.0</td>\n",
              "      <td>20.0</td>\n",
              "      <td>RWD</td>\n",
              "      <td>2.0</td>\n",
              "      <td>3.0</td>\n",
              "      <td>Van</td>\n",
              "      <td>Yfb</td>\n",
              "    </tr>\n",
              "    <tr>\n",
              "      <th>2</th>\n",
              "      <td>3</td>\n",
              "      <td>Alfa Romeo</td>\n",
              "      <td>Giulia</td>\n",
              "      <td>2017</td>\n",
              "      <td>39.0</td>\n",
              "      <td>17.0</td>\n",
              "      <td>280.0</td>\n",
              "      <td>20.0</td>\n",
              "      <td>4.0</td>\n",
              "      <td>73.0</td>\n",
              "      <td>56.0</td>\n",
              "      <td>182.0</td>\n",
              "      <td>23.0</td>\n",
              "      <td>AWD</td>\n",
              "      <td>5.0</td>\n",
              "      <td>4.0</td>\n",
              "      <td>4dr</td>\n",
              "      <td>Sed</td>\n",
              "    </tr>\n",
              "    <tr>\n",
              "      <th>3</th>\n",
              "      <td>4</td>\n",
              "      <td>Chevrolet</td>\n",
              "      <td>Volt</td>\n",
              "      <td>2016</td>\n",
              "      <td>33.0</td>\n",
              "      <td>17.0</td>\n",
              "      <td>140.0</td>\n",
              "      <td>15.0</td>\n",
              "      <td>4.0</td>\n",
              "      <td>71.0</td>\n",
              "      <td>56.0</td>\n",
              "      <td>180.0</td>\n",
              "      <td>43.0</td>\n",
              "      <td>FWD</td>\n",
              "      <td>5.0</td>\n",
              "      <td>4.0</td>\n",
              "      <td>4dr</td>\n",
              "      <td>EuI</td>\n",
              "    </tr>\n",
              "    <tr>\n",
              "      <th>4</th>\n",
              "      <td>5</td>\n",
              "      <td>Nissan</td>\n",
              "      <td>Sentra</td>\n",
              "      <td>2017</td>\n",
              "      <td>24.0</td>\n",
              "      <td>18.0</td>\n",
              "      <td>180.0</td>\n",
              "      <td>16.0</td>\n",
              "      <td>4.0</td>\n",
              "      <td>69.0</td>\n",
              "      <td>58.0</td>\n",
              "      <td>183.0</td>\n",
              "      <td>25.0</td>\n",
              "      <td>FWD</td>\n",
              "      <td>5.0</td>\n",
              "      <td>4.0</td>\n",
              "      <td>4dr</td>\n",
              "      <td>IaF</td>\n",
              "    </tr>\n",
              "  </tbody>\n",
              "</table>\n",
              "</div>"
            ],
            "text/plain": [
              "   Unnamed: 0           Make   Model  ...  Passenger Doors  Body Style   ID\n",
              "0           1           Ford  Fiesta  ...              4.0         4dr  ZBk\n",
              "1           2  Mercedes-Benz  Metris  ...              3.0         Van  Yfb\n",
              "2           3     Alfa Romeo  Giulia  ...              4.0         4dr  Sed\n",
              "3           4      Chevrolet    Volt  ...              4.0         4dr  EuI\n",
              "4           5         Nissan  Sentra  ...              4.0         4dr  IaF\n",
              "\n",
              "[5 rows x 18 columns]"
            ]
          },
          "metadata": {
            "tags": []
          },
          "execution_count": 84
        }
      ]
    },
    {
      "cell_type": "code",
      "metadata": {
        "id": "KONIqL6kSqDu",
        "colab_type": "code",
        "colab": {
          "base_uri": "https://localhost:8080/",
          "height": 35
        },
        "outputId": "8748f039-a1c0-4a5f-bab4-e78379ea70e9"
      },
      "source": [
        "from scipy.stats import ttest_ind as tind\n",
        "\n",
        "# Separating two samples into different data frames\n",
        "df1 = DataFrameOfCarData[DataFrameOfCarData.Drivetrain == 'AWD']\n",
        "df2 = DataFrameOfCarData[DataFrameOfCarData.Drivetrain == 'FWD']\n",
        "\n",
        "tind(df1.MSRP.dropna(), df2.MSRP.dropna(),  equal_var=False)      "
      ],
      "execution_count": 80,
      "outputs": [
        {
          "output_type": "execute_result",
          "data": {
            "text/plain": [
              "Ttest_indResult(statistic=95.38622229522244, pvalue=0.0)"
            ]
          },
          "metadata": {
            "tags": []
          },
          "execution_count": 80
        }
      ]
    },
    {
      "cell_type": "markdown",
      "metadata": {
        "id": "1CLZi5KOfVWM",
        "colab_type": "text"
      },
      "source": [
        "# Classify the data using Libra"
      ]
    },
    {
      "cell_type": "code",
      "metadata": {
        "id": "DHTh7TNfehaL",
        "colab_type": "code",
        "colab": {
          "base_uri": "https://localhost:8080/",
          "height": 1000
        },
        "outputId": "c6ddc0a2-59fe-46a2-8b81-4f2ed267835d"
      },
      "source": [
        "!pip install libra"
      ],
      "execution_count": 82,
      "outputs": [
        {
          "output_type": "stream",
          "text": [
            "Collecting libra\n",
            "\u001b[?25l  Downloading https://files.pythonhosted.org/packages/24/df/6e9ae5f479777fad123d75af02db61872f1528f2310f36fa07b32078d114/libra-1.0.2-py3-none-any.whl (65kB)\n",
            "\u001b[K     |████████████████████████████████| 71kB 2.0MB/s \n",
            "\u001b[?25hCollecting keras-tuner\n",
            "\u001b[?25l  Downloading https://files.pythonhosted.org/packages/a7/f7/4b41b6832abf4c9bef71a664dc563adb25afc5812831667c6db572b1a261/keras-tuner-1.0.1.tar.gz (54kB)\n",
            "\u001b[K     |████████████████████████████████| 61kB 5.3MB/s \n",
            "\u001b[?25hRequirement already satisfied: textblob in /usr/local/lib/python3.6/dist-packages (from libra) (0.15.3)\n",
            "Requirement already satisfied: numpy in /usr/local/lib/python3.6/dist-packages (from libra) (1.18.5)\n",
            "Requirement already satisfied: opencv-python in /usr/local/lib/python3.6/dist-packages (from libra) (4.1.2.30)\n",
            "Collecting python-Levenshtein\n",
            "\u001b[?25l  Downloading https://files.pythonhosted.org/packages/42/a9/d1785c85ebf9b7dfacd08938dd028209c34a0ea3b1bcdb895208bd40a67d/python-Levenshtein-0.12.0.tar.gz (48kB)\n",
            "\u001b[K     |████████████████████████████████| 51kB 5.2MB/s \n",
            "\u001b[?25hRequirement already satisfied: pandas in /usr/local/lib/python3.6/dist-packages (from libra) (1.0.5)\n",
            "Requirement already satisfied: nltk in /usr/local/lib/python3.6/dist-packages (from libra) (3.2.5)\n",
            "Requirement already satisfied: matplotlib in /usr/local/lib/python3.6/dist-packages (from libra) (3.2.2)\n",
            "Requirement already satisfied: pillow in /usr/local/lib/python3.6/dist-packages (from libra) (7.0.0)\n",
            "Collecting autocorrect\n",
            "\u001b[?25l  Downloading https://files.pythonhosted.org/packages/aa/5b/6510d8370201fc96cbb773232c2362079389ed3285b0b1c6a297ef6eadc0/autocorrect-2.0.0.tar.gz (1.8MB)\n",
            "\u001b[K     |████████████████████████████████| 1.8MB 24.4MB/s \n",
            "\u001b[?25hCollecting prince\n",
            "  Downloading https://files.pythonhosted.org/packages/51/f4/8de7003b86351a0e32e29ca2bbbbbf58e311b09f9286e83e638d437aee6d/prince-0.7.0-py3-none-any.whl\n",
            "Collecting colorama\n",
            "  Downloading https://files.pythonhosted.org/packages/c9/dc/45cdef1b4d119eb96316b3117e6d5708a08029992b2fee2c143c7a0a5cc5/colorama-0.4.3-py2.py3-none-any.whl\n",
            "Collecting pprint\n",
            "  Downloading https://files.pythonhosted.org/packages/99/12/b6383259ef85c2b942ab9135f322c0dce83fdca8600d87122d2b0181451f/pprint-0.1.tar.gz\n",
            "Requirement already satisfied: spacy in /usr/local/lib/python3.6/dist-packages (from libra) (2.2.4)\n",
            "Requirement already satisfied: sklearn in /usr/local/lib/python3.6/dist-packages (from libra) (0.0)\n",
            "Collecting transformers==2.11.0\n",
            "\u001b[?25l  Downloading https://files.pythonhosted.org/packages/48/35/ad2c5b1b8f99feaaf9d7cdadaeef261f098c6e1a6a2935d4d07662a6b780/transformers-2.11.0-py3-none-any.whl (674kB)\n",
            "\u001b[K     |████████████████████████████████| 675kB 46.2MB/s \n",
            "\u001b[?25hCollecting keras==2.4.3\n",
            "  Downloading https://files.pythonhosted.org/packages/44/e1/dc0757b20b56c980b5553c1b5c4c32d378c7055ab7bfa92006801ad359ab/Keras-2.4.3-py2.py3-none-any.whl\n",
            "Requirement already satisfied: tabulate in /usr/local/lib/python3.6/dist-packages (from libra) (0.8.7)\n",
            "Requirement already satisfied: seaborn in /usr/local/lib/python3.6/dist-packages (from libra) (0.10.1)\n",
            "Requirement already satisfied: torch in /usr/local/lib/python3.6/dist-packages (from libra) (1.5.1+cu101)\n",
            "Requirement already satisfied: tensorflow==2.2.0 in /usr/local/lib/python3.6/dist-packages (from libra) (2.2.0)\n",
            "Requirement already satisfied: future in /usr/local/lib/python3.6/dist-packages (from keras-tuner->libra) (0.16.0)\n",
            "Collecting terminaltables\n",
            "  Downloading https://files.pythonhosted.org/packages/9b/c4/4a21174f32f8a7e1104798c445dacdc1d4df86f2f26722767034e4de4bff/terminaltables-3.1.0.tar.gz\n",
            "Requirement already satisfied: tqdm in /usr/local/lib/python3.6/dist-packages (from keras-tuner->libra) (4.41.1)\n",
            "Requirement already satisfied: requests in /usr/local/lib/python3.6/dist-packages (from keras-tuner->libra) (2.23.0)\n",
            "Requirement already satisfied: scipy in /usr/local/lib/python3.6/dist-packages (from keras-tuner->libra) (1.4.1)\n",
            "Requirement already satisfied: scikit-learn in /usr/local/lib/python3.6/dist-packages (from keras-tuner->libra) (0.22.2.post1)\n",
            "Requirement already satisfied: setuptools in /usr/local/lib/python3.6/dist-packages (from python-Levenshtein->libra) (49.1.0)\n",
            "Requirement already satisfied: python-dateutil>=2.6.1 in /usr/local/lib/python3.6/dist-packages (from pandas->libra) (2.8.1)\n",
            "Requirement already satisfied: pytz>=2017.2 in /usr/local/lib/python3.6/dist-packages (from pandas->libra) (2018.9)\n",
            "Requirement already satisfied: six in /usr/local/lib/python3.6/dist-packages (from nltk->libra) (1.15.0)\n",
            "Requirement already satisfied: kiwisolver>=1.0.1 in /usr/local/lib/python3.6/dist-packages (from matplotlib->libra) (1.2.0)\n",
            "Requirement already satisfied: pyparsing!=2.0.4,!=2.1.2,!=2.1.6,>=2.0.1 in /usr/local/lib/python3.6/dist-packages (from matplotlib->libra) (2.4.7)\n",
            "Requirement already satisfied: cycler>=0.10 in /usr/local/lib/python3.6/dist-packages (from matplotlib->libra) (0.10.0)\n",
            "Requirement already satisfied: plac<1.2.0,>=0.9.6 in /usr/local/lib/python3.6/dist-packages (from spacy->libra) (1.1.3)\n",
            "Requirement already satisfied: srsly<1.1.0,>=1.0.2 in /usr/local/lib/python3.6/dist-packages (from spacy->libra) (1.0.2)\n",
            "Requirement already satisfied: murmurhash<1.1.0,>=0.28.0 in /usr/local/lib/python3.6/dist-packages (from spacy->libra) (1.0.2)\n",
            "Requirement already satisfied: cymem<2.1.0,>=2.0.2 in /usr/local/lib/python3.6/dist-packages (from spacy->libra) (2.0.3)\n",
            "Requirement already satisfied: catalogue<1.1.0,>=0.0.7 in /usr/local/lib/python3.6/dist-packages (from spacy->libra) (1.0.0)\n",
            "Requirement already satisfied: wasabi<1.1.0,>=0.4.0 in /usr/local/lib/python3.6/dist-packages (from spacy->libra) (0.7.1)\n",
            "Requirement already satisfied: blis<0.5.0,>=0.4.0 in /usr/local/lib/python3.6/dist-packages (from spacy->libra) (0.4.1)\n",
            "Requirement already satisfied: thinc==7.4.0 in /usr/local/lib/python3.6/dist-packages (from spacy->libra) (7.4.0)\n",
            "Requirement already satisfied: preshed<3.1.0,>=3.0.2 in /usr/local/lib/python3.6/dist-packages (from spacy->libra) (3.0.2)\n",
            "Collecting sacremoses\n",
            "\u001b[?25l  Downloading https://files.pythonhosted.org/packages/7d/34/09d19aff26edcc8eb2a01bed8e98f13a1537005d31e95233fd48216eed10/sacremoses-0.0.43.tar.gz (883kB)\n",
            "\u001b[K     |████████████████████████████████| 890kB 46.4MB/s \n",
            "\u001b[?25hCollecting tokenizers==0.7.0\n",
            "\u001b[?25l  Downloading https://files.pythonhosted.org/packages/14/e5/a26eb4716523808bb0a799fcfdceb6ebf77a18169d9591b2f46a9adb87d9/tokenizers-0.7.0-cp36-cp36m-manylinux1_x86_64.whl (3.8MB)\n",
            "\u001b[K     |████████████████████████████████| 3.8MB 44.7MB/s \n",
            "\u001b[?25hRequirement already satisfied: dataclasses; python_version < \"3.7\" in /usr/local/lib/python3.6/dist-packages (from transformers==2.11.0->libra) (0.7)\n",
            "Requirement already satisfied: packaging in /usr/local/lib/python3.6/dist-packages (from transformers==2.11.0->libra) (20.4)\n",
            "Requirement already satisfied: regex!=2019.12.17 in /usr/local/lib/python3.6/dist-packages (from transformers==2.11.0->libra) (2019.12.20)\n",
            "Requirement already satisfied: filelock in /usr/local/lib/python3.6/dist-packages (from transformers==2.11.0->libra) (3.0.12)\n",
            "Collecting sentencepiece\n",
            "\u001b[?25l  Downloading https://files.pythonhosted.org/packages/d4/a4/d0a884c4300004a78cca907a6ff9a5e9fe4f090f5d95ab341c53d28cbc58/sentencepiece-0.1.91-cp36-cp36m-manylinux1_x86_64.whl (1.1MB)\n",
            "\u001b[K     |████████████████████████████████| 1.1MB 50.7MB/s \n",
            "\u001b[?25hRequirement already satisfied: pyyaml in /usr/local/lib/python3.6/dist-packages (from keras==2.4.3->libra) (3.13)\n",
            "Requirement already satisfied: h5py in /usr/local/lib/python3.6/dist-packages (from keras==2.4.3->libra) (2.10.0)\n",
            "Requirement already satisfied: google-pasta>=0.1.8 in /usr/local/lib/python3.6/dist-packages (from tensorflow==2.2.0->libra) (0.2.0)\n",
            "Requirement already satisfied: grpcio>=1.8.6 in /usr/local/lib/python3.6/dist-packages (from tensorflow==2.2.0->libra) (1.30.0)\n",
            "Requirement already satisfied: termcolor>=1.1.0 in /usr/local/lib/python3.6/dist-packages (from tensorflow==2.2.0->libra) (1.1.0)\n",
            "Requirement already satisfied: wrapt>=1.11.1 in /usr/local/lib/python3.6/dist-packages (from tensorflow==2.2.0->libra) (1.12.1)\n",
            "Requirement already satisfied: keras-preprocessing>=1.1.0 in /usr/local/lib/python3.6/dist-packages (from tensorflow==2.2.0->libra) (1.1.2)\n",
            "Requirement already satisfied: tensorflow-estimator<2.3.0,>=2.2.0 in /usr/local/lib/python3.6/dist-packages (from tensorflow==2.2.0->libra) (2.2.0)\n",
            "Requirement already satisfied: tensorboard<2.3.0,>=2.2.0 in /usr/local/lib/python3.6/dist-packages (from tensorflow==2.2.0->libra) (2.2.2)\n",
            "Requirement already satisfied: gast==0.3.3 in /usr/local/lib/python3.6/dist-packages (from tensorflow==2.2.0->libra) (0.3.3)\n",
            "Requirement already satisfied: opt-einsum>=2.3.2 in /usr/local/lib/python3.6/dist-packages (from tensorflow==2.2.0->libra) (3.3.0)\n",
            "Requirement already satisfied: absl-py>=0.7.0 in /usr/local/lib/python3.6/dist-packages (from tensorflow==2.2.0->libra) (0.9.0)\n",
            "Requirement already satisfied: protobuf>=3.8.0 in /usr/local/lib/python3.6/dist-packages (from tensorflow==2.2.0->libra) (3.12.2)\n",
            "Requirement already satisfied: wheel>=0.26; python_version >= \"3\" in /usr/local/lib/python3.6/dist-packages (from tensorflow==2.2.0->libra) (0.34.2)\n",
            "Requirement already satisfied: astunparse==1.6.3 in /usr/local/lib/python3.6/dist-packages (from tensorflow==2.2.0->libra) (1.6.3)\n",
            "Requirement already satisfied: certifi>=2017.4.17 in /usr/local/lib/python3.6/dist-packages (from requests->keras-tuner->libra) (2020.6.20)\n",
            "Requirement already satisfied: idna<3,>=2.5 in /usr/local/lib/python3.6/dist-packages (from requests->keras-tuner->libra) (2.10)\n",
            "Requirement already satisfied: urllib3!=1.25.0,!=1.25.1,<1.26,>=1.21.1 in /usr/local/lib/python3.6/dist-packages (from requests->keras-tuner->libra) (1.24.3)\n",
            "Requirement already satisfied: chardet<4,>=3.0.2 in /usr/local/lib/python3.6/dist-packages (from requests->keras-tuner->libra) (3.0.4)\n",
            "Requirement already satisfied: joblib>=0.11 in /usr/local/lib/python3.6/dist-packages (from scikit-learn->keras-tuner->libra) (0.16.0)\n",
            "Requirement already satisfied: importlib-metadata>=0.20; python_version < \"3.8\" in /usr/local/lib/python3.6/dist-packages (from catalogue<1.1.0,>=0.0.7->spacy->libra) (1.7.0)\n",
            "Requirement already satisfied: click in /usr/local/lib/python3.6/dist-packages (from sacremoses->transformers==2.11.0->libra) (7.1.2)\n",
            "Requirement already satisfied: werkzeug>=0.11.15 in /usr/local/lib/python3.6/dist-packages (from tensorboard<2.3.0,>=2.2.0->tensorflow==2.2.0->libra) (1.0.1)\n",
            "Requirement already satisfied: tensorboard-plugin-wit>=1.6.0 in /usr/local/lib/python3.6/dist-packages (from tensorboard<2.3.0,>=2.2.0->tensorflow==2.2.0->libra) (1.7.0)\n",
            "Requirement already satisfied: google-auth<2,>=1.6.3 in /usr/local/lib/python3.6/dist-packages (from tensorboard<2.3.0,>=2.2.0->tensorflow==2.2.0->libra) (1.17.2)\n",
            "Requirement already satisfied: google-auth-oauthlib<0.5,>=0.4.1 in /usr/local/lib/python3.6/dist-packages (from tensorboard<2.3.0,>=2.2.0->tensorflow==2.2.0->libra) (0.4.1)\n",
            "Requirement already satisfied: markdown>=2.6.8 in /usr/local/lib/python3.6/dist-packages (from tensorboard<2.3.0,>=2.2.0->tensorflow==2.2.0->libra) (3.2.2)\n",
            "Requirement already satisfied: zipp>=0.5 in /usr/local/lib/python3.6/dist-packages (from importlib-metadata>=0.20; python_version < \"3.8\"->catalogue<1.1.0,>=0.0.7->spacy->libra) (3.1.0)\n",
            "Requirement already satisfied: cachetools<5.0,>=2.0.0 in /usr/local/lib/python3.6/dist-packages (from google-auth<2,>=1.6.3->tensorboard<2.3.0,>=2.2.0->tensorflow==2.2.0->libra) (4.1.1)\n",
            "Requirement already satisfied: pyasn1-modules>=0.2.1 in /usr/local/lib/python3.6/dist-packages (from google-auth<2,>=1.6.3->tensorboard<2.3.0,>=2.2.0->tensorflow==2.2.0->libra) (0.2.8)\n",
            "Requirement already satisfied: rsa<5,>=3.1.4; python_version >= \"3\" in /usr/local/lib/python3.6/dist-packages (from google-auth<2,>=1.6.3->tensorboard<2.3.0,>=2.2.0->tensorflow==2.2.0->libra) (4.6)\n",
            "Requirement already satisfied: requests-oauthlib>=0.7.0 in /usr/local/lib/python3.6/dist-packages (from google-auth-oauthlib<0.5,>=0.4.1->tensorboard<2.3.0,>=2.2.0->tensorflow==2.2.0->libra) (1.3.0)\n",
            "Requirement already satisfied: pyasn1<0.5.0,>=0.4.6 in /usr/local/lib/python3.6/dist-packages (from pyasn1-modules>=0.2.1->google-auth<2,>=1.6.3->tensorboard<2.3.0,>=2.2.0->tensorflow==2.2.0->libra) (0.4.8)\n",
            "Requirement already satisfied: oauthlib>=3.0.0 in /usr/local/lib/python3.6/dist-packages (from requests-oauthlib>=0.7.0->google-auth-oauthlib<0.5,>=0.4.1->tensorboard<2.3.0,>=2.2.0->tensorflow==2.2.0->libra) (3.1.0)\n",
            "Building wheels for collected packages: keras-tuner, python-Levenshtein, autocorrect, pprint, terminaltables, sacremoses\n",
            "  Building wheel for keras-tuner (setup.py) ... \u001b[?25l\u001b[?25hdone\n",
            "  Created wheel for keras-tuner: filename=keras_tuner-1.0.1-cp36-none-any.whl size=73200 sha256=fb14a3b161784384866a1ac2ddbbacdc97f9fed30a4e21be04199a0353e9c01a\n",
            "  Stored in directory: /root/.cache/pip/wheels/b9/cc/62/52716b70dd90f3db12519233c3a93a5360bc672da1a10ded43\n",
            "  Building wheel for python-Levenshtein (setup.py) ... \u001b[?25l\u001b[?25hdone\n",
            "  Created wheel for python-Levenshtein: filename=python_Levenshtein-0.12.0-cp36-cp36m-linux_x86_64.whl size=144791 sha256=43b982245ddc7ae9b9bef414a9b9b26578bddba54c976491374442ff8db2521e\n",
            "  Stored in directory: /root/.cache/pip/wheels/de/c2/93/660fd5f7559049268ad2dc6d81c4e39e9e36518766eaf7e342\n",
            "  Building wheel for autocorrect (setup.py) ... \u001b[?25l\u001b[?25hdone\n",
            "  Created wheel for autocorrect: filename=autocorrect-2.0.0-cp36-none-any.whl size=1811641 sha256=2acfcbda0e614fec6b47511f6ce7229cf10ab4e502b20c5374fe290473e869fd\n",
            "  Stored in directory: /root/.cache/pip/wheels/0b/06/bc/e66f28d72bed29591eadc79cebb2e7964ad0282804ab233da3\n",
            "  Building wheel for pprint (setup.py) ... \u001b[?25l\u001b[?25hdone\n",
            "  Created wheel for pprint: filename=pprint-0.1-cp36-none-any.whl size=1251 sha256=5fa5e38ca1bbccd5cac3f45586d468dfe33ab2bbddccd5e68827de9870f04186\n",
            "  Stored in directory: /root/.cache/pip/wheels/42/d4/c6/16a6495aecc1bda5d5857bd036efd50617789ba9bea4a05124\n",
            "  Building wheel for terminaltables (setup.py) ... \u001b[?25l\u001b[?25hdone\n",
            "  Created wheel for terminaltables: filename=terminaltables-3.1.0-cp36-none-any.whl size=15356 sha256=21c86b0ae8776bda1be8043b6af8fb14fa0dc1bec2c468c91d92620b1a20004b\n",
            "  Stored in directory: /root/.cache/pip/wheels/30/6b/50/6c75775b681fb36cdfac7f19799888ef9d8813aff9e379663e\n",
            "  Building wheel for sacremoses (setup.py) ... \u001b[?25l\u001b[?25hdone\n",
            "  Created wheel for sacremoses: filename=sacremoses-0.0.43-cp36-none-any.whl size=893260 sha256=5c1fb5d284170d7b62aa5ae9c5e4ee73823e025b651303f579db0ea56f03de53\n",
            "  Stored in directory: /root/.cache/pip/wheels/29/3c/fd/7ce5c3f0666dab31a50123635e6fb5e19ceb42ce38d4e58f45\n",
            "Successfully built keras-tuner python-Levenshtein autocorrect pprint terminaltables sacremoses\n",
            "Installing collected packages: terminaltables, colorama, keras-tuner, python-Levenshtein, autocorrect, prince, pprint, sacremoses, tokenizers, sentencepiece, transformers, keras, libra\n",
            "  Found existing installation: Keras 2.3.1\n",
            "    Uninstalling Keras-2.3.1:\n",
            "      Successfully uninstalled Keras-2.3.1\n",
            "Successfully installed autocorrect-2.0.0 colorama-0.4.3 keras-2.4.3 keras-tuner-1.0.1 libra-1.0.2 pprint-0.1 prince-0.7.0 python-Levenshtein-0.12.0 sacremoses-0.0.43 sentencepiece-0.1.91 terminaltables-3.1.0 tokenizers-0.7.0 transformers-2.11.0\n"
          ],
          "name": "stdout"
        }
      ]
    },
    {
      "cell_type": "code",
      "metadata": {
        "id": "TAOZmxPhe3EU",
        "colab_type": "code",
        "colab": {}
      },
      "source": [
        "DataFrameOfCarData.head(1000).to_csv(\"testDataForLibra.csv\")"
      ],
      "execution_count": 86,
      "outputs": []
    },
    {
      "cell_type": "code",
      "metadata": {
        "id": "mneAog1beipi",
        "colab_type": "code",
        "colab": {
          "base_uri": "https://localhost:8080/",
          "height": 87
        },
        "outputId": "64bb2c9f-9844-4720-f7d6-706a6f70bf98"
      },
      "source": [
        "from libra import client\n",
        "a_client = client('testDataForLibra.csv')"
      ],
      "execution_count": 87,
      "outputs": [
        {
          "output_type": "stream",
          "text": [
            "Creating client object\n",
            "  |- Reading in dataset\n",
            "\n",
            "\n"
          ],
          "name": "stdout"
        }
      ]
    },
    {
      "cell_type": "code",
      "metadata": {
        "id": "cqGG_cMRellL",
        "colab_type": "code",
        "colab": {
          "base_uri": "https://localhost:8080/",
          "height": 937
        },
        "outputId": "40974d63-2708-48d0-c088-5b8e40f0668f"
      },
      "source": [
        "a_client.neural_network_query('Identify Drivetrain', epochs=10, drop=['ID', 'Unnamed: 0'], save_model=True)"
      ],
      "execution_count": 96,
      "outputs": [
        {
          "output_type": "stream",
          "text": [
            "Reading in dataset\n",
            "->Target column found: Drivetrain\n",
            "  |- Establishing callback function\n",
            "    |- Training initial model\n",
            "      | Initial number of layers   | Training Accuracy        | Test Accuracy             |\n",
            "      | 3                          | 0.7848101258277893       | 0.7861635088920593        |\n",
            "      |- Testing number of layers\n",
            "        | Current number of layers  | Training Accuracy       | Test Accuracy            |\n",
            "        | 3                         | 0.7832278609275818      | 0.7798742055892944       |\n",
            "        | 4                         | 0.8148733973503113      | 0.8176100850105286       |\n",
            "        | 5                         | 0.8702531456947327      | 0.8364779949188232       |\n",
            "        | 6                         | 0.8765822649002075      | 0.8176100850105286       |\n",
            "\n",
            "      ->Best number of layers found: 5\n",
            "      ->Training Accuracy: 0.8702531456947327\n",
            "      ->Test Accuracy: 0.8364779949188232\n",
            "->Saved model to disk as model1\n",
            "\n",
            "        |- Stored model under 'classification_ANN' key\n",
            "\n",
            "\n"
          ],
          "name": "stdout"
        },
        {
          "output_type": "display_data",
          "data": {
            "image/png": "[encoded data removed]",
            "text/plain": [
              "<Figure size 432x288 with 1 Axes>"
            ]
          },
          "metadata": {
            "tags": [],
            "needs_background": "light"
          }
        },
        {
          "output_type": "display_data",
          "data": {
            "image/png": "[encoded data removed]",
            "text/plain": [
              "<Figure size 432x288 with 1 Axes>"
            ]
          },
          "metadata": {
            "tags": [],
            "needs_background": "light"
          }
        }
      ]
    },
    {
      "cell_type": "code",
      "metadata": {
        "id": "MVyfnagnezFa",
        "colab_type": "code",
        "colab": {
          "base_uri": "https://localhost:8080/",
          "height": 765
        },
        "outputId": "ff1822eb-ef84-489a-918d-68c0dab8ccc6"
      },
      "source": [
        "# a_client.models['classification_ANN'].plots() #access plots\n",
        "a_client.analyze()"
      ],
      "execution_count": 97,
      "outputs": [
        {
          "output_type": "stream",
          "text": [
            "\n",
            "Analyzing classification_ANN for further understanding\n",
            "  |- Making predictions for test data\n",
            "    |- Transforming dataset for plotting module\n",
            "    ->Plotting ROC curves and creating confusion matrix...\n",
            "      |- Investigating potential issues with calculations\n",
            "        |- Gathering metrics for display: \n",
            "        ->Accuracy on test set: 0.8364779949188232\n",
            "        ->Recall on test set: 0.8364779874213837\n",
            "        ->Precision on test set: 0.8364779874213837\n",
            "        ->F1 Score on test set: 0.8364779874213837\n",
            "\n"
          ],
          "name": "stdout"
        },
        {
          "output_type": "display_data",
          "data": {
            "image/png": "[encoded data removed]",
            "text/plain": [
              "<Figure size 432x288 with 1 Axes>"
            ]
          },
          "metadata": {
            "tags": [],
            "needs_background": "light"
          }
        },
        {
          "output_type": "display_data",
          "data": {
            "image/png": "[encoded data removed]",
            "text/plain": [
              "<Figure size 432x288 with 2 Axes>"
            ]
          },
          "metadata": {
            "tags": [],
            "needs_background": "light"
          }
        }
      ]
    },
    {
      "cell_type": "code",
      "metadata": {
        "id": "o03K-8iJf1pB",
        "colab_type": "code",
        "colab": {}
      },
      "source": [
        "DataFrameOfCarData.tail(1000).to_csv(\"OOStestDataForLibra.csv\")"
      ],
      "execution_count": 98,
      "outputs": []
    },
    {
      "cell_type": "code",
      "metadata": {
        "id": "MDjkwxP0fKsK",
        "colab_type": "code",
        "colab": {
          "base_uri": "https://localhost:8080/",
          "height": 52
        },
        "outputId": "4f3e8c57-1915-499e-a2d4-e0d6c9ff3306"
      },
      "source": [
        "new_data = pd.read_csv('OOStestDataForLibra.csv')\n",
        "predictionsOnOOSdata = a_client.predict(new_data.drop(['Drivetrain'], axis=1), model='classification_ANN')"
      ],
      "execution_count": 99,
      "outputs": [
        {
          "output_type": "stream",
          "text": [
            "\n",
            "\n"
          ],
          "name": "stdout"
        }
      ]
    },
    {
      "cell_type": "code",
      "metadata": {
        "id": "Dyt2tBIHgBh8",
        "colab_type": "code",
        "colab": {}
      },
      "source": [
        "new_data['Predictions'] = predictionsOnOOSdata"
      ],
      "execution_count": 100,
      "outputs": []
    },
    {
      "cell_type": "code",
      "metadata": {
        "id": "V9FvrSAjf5aL",
        "colab_type": "code",
        "colab": {}
      },
      "source": [
        "new_data.to_csv(\"new_dataPredictions.csv\")"
      ],
      "execution_count": 101,
      "outputs": []
    },
    {
      "cell_type": "code",
      "metadata": {
        "id": "fMaG0iW-gPLy",
        "colab_type": "code",
        "colab": {}
      },
      "source": [
        ""
      ],
      "execution_count": null,
      "outputs": []
    }
  ]
}