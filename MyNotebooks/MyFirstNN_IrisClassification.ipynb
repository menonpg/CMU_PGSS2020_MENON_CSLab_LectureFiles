{
  "nbformat": 4,
  "nbformat_minor": 0,
  "metadata": {
    "colab": {
      "name": "MyFirstNN_IrisClassification.ipynb",
      "provenance": [],
      "collapsed_sections": []
    },
    "kernelspec": {
      "name": "python3",
      "display_name": "Python 3"
    }
  },
  "cells": [
    {
      "cell_type": "markdown",
      "metadata": {
        "id": "eV7il8zVBVJm",
        "colab_type": "text"
      },
      "source": [
        "# Load dataset from UCI ML datasets website"
      ]
    },
    {
      "cell_type": "code",
      "metadata": {
        "id": "tx3CUTRgAkrI",
        "colab_type": "code",
        "colab": {}
      },
      "source": [
        "import pandas as pd\n",
        "IrisFromUCI = pd.read_csv('https://archive.ics.uci.edu/ml/machine-learning-databases/iris/iris.data', header=None)\n",
        "IrisFromUCI.columns = ['SepalLength','SepalWidth','PetalLength','PetalWidth','Species']\n",
        "IrisFromUCI.to_csv('IrisFromUCI.csv', index=None)"
      ],
      "execution_count": 17,
      "outputs": []
    },
    {
      "cell_type": "code",
      "metadata": {
        "id": "kuKJgNPICc8M",
        "colab_type": "code",
        "colab": {
          "base_uri": "https://localhost:8080/",
          "height": 87
        },
        "outputId": "0f07a23d-9795-46ba-d9af-c1edfa76f342"
      },
      "source": [
        "IrisFromUCI.Species.value_counts()"
      ],
      "execution_count": 18,
      "outputs": [
        {
          "output_type": "execute_result",
          "data": {
            "text/plain": [
              "Iris-setosa        50\n",
              "Iris-versicolor    50\n",
              "Iris-virginica     50\n",
              "Name: Species, dtype: int64"
            ]
          },
          "metadata": {
            "tags": []
          },
          "execution_count": 18
        }
      ]
    },
    {
      "cell_type": "markdown",
      "metadata": {
        "id": "Pb6IlGOUBdc3",
        "colab_type": "text"
      },
      "source": [
        "# Load necessary libraries to create a sequential neural network in keras"
      ]
    },
    {
      "cell_type": "code",
      "metadata": {
        "id": "3dBA-N6pBNtH",
        "colab_type": "code",
        "colab": {}
      },
      "source": [
        "from sklearn.model_selection import train_test_split #to split data\n",
        "\n",
        "import numpy as np\n",
        "import pandas as pd\n",
        "import matplotlib.pyplot as plt\n",
        "\n",
        "import tensorflow as tf\n",
        "from tensorflow.keras.layers import Dense\n",
        "from tensorflow.keras.models import Sequential"
      ],
      "execution_count": 19,
      "outputs": []
    },
    {
      "cell_type": "code",
      "metadata": {
        "id": "TCr-KCzwBptl",
        "colab_type": "code",
        "colab": {}
      },
      "source": [
        "X = pd.read_csv('IrisFromUCI.csv').drop(['Species'], axis=1)\n",
        "y = IrisFromUCI['Species']"
      ],
      "execution_count": 21,
      "outputs": []
    },
    {
      "cell_type": "code",
      "metadata": {
        "id": "YyJT5imSEKlD",
        "colab_type": "code",
        "colab": {}
      },
      "source": [
        "# Convert y into an integer \n",
        "from sklearn.preprocessing import LabelEncoder\n",
        "le = LabelEncoder()\n",
        "y = le.fit_transform(y)"
      ],
      "execution_count": 22,
      "outputs": []
    },
    {
      "cell_type": "code",
      "metadata": {
        "id": "7tifSThHCAPm",
        "colab_type": "code",
        "colab": {}
      },
      "source": [
        "X_train, X_test, y_train, y_test = train_test_split(X,y, test_size=0.1)"
      ],
      "execution_count": 23,
      "outputs": []
    },
    {
      "cell_type": "markdown",
      "metadata": {
        "id": "zlvQ_NB5FGDz",
        "colab_type": "text"
      },
      "source": [
        "# Convert the split data into the format that Keras likes"
      ]
    },
    {
      "cell_type": "code",
      "metadata": {
        "id": "CdCkt4oZCLuk",
        "colab_type": "code",
        "colab": {}
      },
      "source": [
        "y_train = tf.keras.utils.to_categorical(y_train)\n",
        "y_test = tf.keras.utils.to_categorical(y_test)"
      ],
      "execution_count": 24,
      "outputs": []
    },
    {
      "cell_type": "code",
      "metadata": {
        "id": "Q-GYD6VwFJ5D",
        "colab_type": "code",
        "colab": {}
      },
      "source": [
        "model1 = Sequential() #Sequential Object\n",
        "model1.add( Dense( 64, activation = 'relu', input_shape= X_train[0].shape))\n",
        "model1.add( Dense (128, activation = 'relu'))\n",
        "model1.add( Dense (128, activation = 'relu'))\n",
        "model1.add( Dense (128, activation = 'relu'))\n",
        "model1.add( Dense (128, activation = 'relu'))\n",
        "model1.add( Dense (64, activation = 'relu'))\n",
        "model1.add( Dense (64, activation = 'relu'))\n",
        "model1.add( Dense (64, activation = 'relu'))\n",
        "model1.add( Dense (64, activation = 'relu'))\n",
        "model1.add( Dense (3, activation = 'softmax'))\n",
        "\n",
        "# model2 = Sequential()\n",
        "# model2.add(Dense(64, activation = 'relu', input_shape= X_train[0].shape))\n",
        "# model2.add( Dense(128, activation = 'relu', kernel_regularizer=tf.keras.regularizers.l2(0.001)))\n",
        "# model2.add( Dense (128, activation = 'relu',kernel_regularizer=tf.keras.regularizers.l2(0.001)))\n",
        "# model2.add(tf.keras.layers.Dropout(0.5))\n",
        "# model2.add( Dense (128, activation = 'relu', kernel_regularizer=tf.keras.regularizers.l2(0.001)))\n",
        "# model2.add(Dense(128, activation = 'relu', kernel_regularizer = tf.keras.regularizers.l2(0.001)))\n",
        "# model2.add( Dense (64, activation = 'relu', kernel_regularizer=tf.keras.regularizers.l2(0.001)))\n",
        "# model2.add( Dense (64, activation = 'relu', kernel_regularizer=tf.keras.regularizers.l2(0.001)))\n",
        "# model2.add(tf.keras.layers.Dropout(0.5))\n",
        "# model2.add( Dense (64, activation = 'relu', kernel_regularizer=tf.keras.regularizers.l2(0.001)))\n",
        "# model2.add( Dense (64, activation = 'relu', kernel_regularizer=tf.keras.regularizers.l2(0.001)))\n",
        "# model2.add( Dense (3, activation = 'softmax', kernel_regularizer=tf.keras.regularizers.l2(0.001)))\n",
        "\n",
        "# model2.compile(optimizer='adam', loss='categorical_crossentropy', metrics=['acc'])\n",
        "# history2 = model2.fit(X_train, y_train, epochs=800, validation_split=0.1, batch_size=40)\n",
        "\n"
      ],
      "execution_count": null,
      "outputs": []
    }
  ]
}