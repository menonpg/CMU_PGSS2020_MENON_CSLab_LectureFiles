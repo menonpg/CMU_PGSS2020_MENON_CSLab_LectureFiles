{
  "nbformat": 4,
  "nbformat_minor": 0,
  "metadata": {
    "colab": {
      "name": "WorkingWithTextData_01.ipynb",
      "provenance": [],
      "collapsed_sections": []
    },
    "kernelspec": {
      "name": "python3",
      "display_name": "Python 3"
    }
  },
  "cells": [
    {
      "cell_type": "code",
      "metadata": {
        "id": "xeZJ-CQ0j_JJ",
        "colab_type": "code",
        "colab": {
          "base_uri": "https://localhost:8080/",
          "height": 191
        },
        "outputId": "9945b762-9364-424b-9cb1-a4fed1062063"
      },
      "source": [
        "!pip install PyPDF2"
      ],
      "execution_count": 1,
      "outputs": [
        {
          "output_type": "stream",
          "text": [
            "Collecting PyPDF2\n",
            "\u001b[?25l  Downloading https://files.pythonhosted.org/packages/b4/01/68fcc0d43daf4c6bdbc6b33cc3f77bda531c86b174cac56ef0ffdb96faab/PyPDF2-1.26.0.tar.gz (77kB)\n",
            "\r\u001b[K     |████▎                           | 10kB 18.1MB/s eta 0:00:01\r\u001b[K     |████████▌                       | 20kB 1.7MB/s eta 0:00:01\r\u001b[K     |████████████▊                   | 30kB 2.3MB/s eta 0:00:01\r\u001b[K     |█████████████████               | 40kB 2.6MB/s eta 0:00:01\r\u001b[K     |█████████████████████▏          | 51kB 2.0MB/s eta 0:00:01\r\u001b[K     |█████████████████████████▍      | 61kB 2.3MB/s eta 0:00:01\r\u001b[K     |█████████████████████████████▋  | 71kB 2.5MB/s eta 0:00:01\r\u001b[K     |████████████████████████████████| 81kB 2.3MB/s \n",
            "\u001b[?25hBuilding wheels for collected packages: PyPDF2\n",
            "  Building wheel for PyPDF2 (setup.py) ... \u001b[?25l\u001b[?25hdone\n",
            "  Created wheel for PyPDF2: filename=PyPDF2-1.26.0-cp36-none-any.whl size=61086 sha256=27d6623e063a61d86b72e22bfd7ca3f45b62b0bab6600e5b8b8c5403db93f09f\n",
            "  Stored in directory: /root/.cache/pip/wheels/53/84/19/35bc977c8bf5f0c23a8a011aa958acd4da4bbd7a229315c1b7\n",
            "Successfully built PyPDF2\n",
            "Installing collected packages: PyPDF2\n",
            "Successfully installed PyPDF2-1.26.0\n"
          ],
          "name": "stdout"
        }
      ]
    },
    {
      "cell_type": "code",
      "metadata": {
        "id": "B1vRiw2HkHxL",
        "colab_type": "code",
        "colab": {
          "base_uri": "https://localhost:8080/",
          "height": 35
        },
        "outputId": "b7eef4db-45de-490d-fb0e-54b911b4d684"
      },
      "source": [
        "import PyPDF2 as pdf\n",
        "import requests \n",
        "url = 'https://canvas.harvard.edu/courses/63146/files/8208924/download?verifier=yKeGz92l9DvL6BodDw9MzzlqkIYBBV9FLeN8niwu&wrap=1'\n",
        "r = requests.get(url, allow_redirects=True)\n",
        "\n",
        "filename = 'testFileDownloadedFromInternet.pdf'\n",
        "open(filename, 'wb').write(r.content)"
      ],
      "execution_count": 2,
      "outputs": [
        {
          "output_type": "execute_result",
          "data": {
            "text/plain": [
              "143447"
            ]
          },
          "metadata": {
            "tags": []
          },
          "execution_count": 2
        }
      ]
    },
    {
      "cell_type": "code",
      "metadata": {
        "id": "-VKCgiDGkixJ",
        "colab_type": "code",
        "colab": {
          "base_uri": "https://localhost:8080/",
          "height": 35
        },
        "outputId": "f900d9e8-7804-4d73-edc9-9cc65400f008"
      },
      "source": [
        "file = open(filename, 'rb')\n",
        "pdf_reader = pdf.PdfFileReader(file)\n",
        "pdf_reader"
      ],
      "execution_count": 3,
      "outputs": [
        {
          "output_type": "execute_result",
          "data": {
            "text/plain": [
              "<PyPDF2.pdf.PdfFileReader at 0x7fd82a5bc978>"
            ]
          },
          "metadata": {
            "tags": []
          },
          "execution_count": 3
        }
      ]
    },
    {
      "cell_type": "code",
      "metadata": {
        "id": "3Z9wShNYkxwS",
        "colab_type": "code",
        "colab": {
          "base_uri": "https://localhost:8080/",
          "height": 1000
        },
        "outputId": "cde64917-8283-43aa-b3e1-0ebbc7192ec8"
      },
      "source": [
        "help(pdf_reader)"
      ],
      "execution_count": 4,
      "outputs": [
        {
          "output_type": "stream",
          "text": [
            "Help on PdfFileReader in module PyPDF2.pdf object:\n",
            "\n",
            "class PdfFileReader(builtins.object)\n",
            " |  Initializes a PdfFileReader object.  This operation can take some time, as\n",
            " |  the PDF stream's cross-reference tables are read into memory.\n",
            " |  \n",
            " |  :param stream: A File object or an object that supports the standard read\n",
            " |      and seek methods similar to a File object. Could also be a\n",
            " |      string representing a path to a PDF file.\n",
            " |  :param bool strict: Determines whether user should be warned of all\n",
            " |      problems and also causes some correctable problems to be fatal.\n",
            " |      Defaults to ``True``.\n",
            " |  :param warndest: Destination for logging warnings (defaults to\n",
            " |      ``sys.stderr``).\n",
            " |  :param bool overwriteWarnings: Determines whether to override Python's\n",
            " |      ``warnings.py`` module with a custom implementation (defaults to\n",
            " |      ``True``).\n",
            " |  \n",
            " |  Methods defined here:\n",
            " |  \n",
            " |  __init__(self, stream, strict=True, warndest=None, overwriteWarnings=True)\n",
            " |      Initialize self.  See help(type(self)) for accurate signature.\n",
            " |  \n",
            " |  cacheGetIndirectObject(self, generation, idnum)\n",
            " |  \n",
            " |  cacheIndirectObject(self, generation, idnum, obj)\n",
            " |  \n",
            " |  decrypt(self, password)\n",
            " |      When using an encrypted / secured PDF file with the PDF Standard\n",
            " |      encryption handler, this function will allow the file to be decrypted.\n",
            " |      It checks the given password against the document's user password and\n",
            " |      owner password, and then stores the resulting decryption key if either\n",
            " |      password is correct.\n",
            " |      \n",
            " |      It does not matter which password was matched.  Both passwords provide\n",
            " |      the correct decryption key that will allow the document to be used with\n",
            " |      this library.\n",
            " |      \n",
            " |      :param str password: The password to match.\n",
            " |      :return: ``0`` if the password failed, ``1`` if the password matched the user\n",
            " |          password, and ``2`` if the password matched the owner password.\n",
            " |      :rtype: int\n",
            " |      :raises NotImplementedError: if document uses an unsupported encryption\n",
            " |          method.\n",
            " |  \n",
            " |  getDestinationPageNumber(self, destination)\n",
            " |      Retrieve page number of a given Destination object\n",
            " |      \n",
            " |      :param Destination destination: The destination to get page number.\n",
            " |           Should be an instance of\n",
            " |           :class:`Destination<PyPDF2.pdf.Destination>`\n",
            " |      :return: the page number or -1 if page not found\n",
            " |      :rtype: int\n",
            " |  \n",
            " |  getDocumentInfo(self)\n",
            " |      Retrieves the PDF file's document information dictionary, if it exists.\n",
            " |      Note that some PDF files use metadata streams instead of docinfo\n",
            " |      dictionaries, and these metadata streams will not be accessed by this\n",
            " |      function.\n",
            " |      \n",
            " |      :return: the document information of this PDF file\n",
            " |      :rtype: :class:`DocumentInformation<pdf.DocumentInformation>` or ``None`` if none exists.\n",
            " |  \n",
            " |  getFields(self, tree=None, retval=None, fileobj=None)\n",
            " |      Extracts field data if this PDF contains interactive form fields.\n",
            " |      The *tree* and *retval* parameters are for recursive use.\n",
            " |      \n",
            " |      :param fileobj: A file object (usually a text file) to write\n",
            " |          a report to on all interactive form fields found.\n",
            " |      :return: A dictionary where each key is a field name, and each\n",
            " |          value is a :class:`Field<PyPDF2.generic.Field>` object. By\n",
            " |          default, the mapping name is used for keys.\n",
            " |      :rtype: dict, or ``None`` if form data could not be located.\n",
            " |  \n",
            " |  getFormTextFields(self)\n",
            " |      Retrieves form fields from the document with textual data (inputs, dropdowns)\n",
            " |  \n",
            " |  getIsEncrypted(self)\n",
            " |  \n",
            " |  getNamedDestinations(self, tree=None, retval=None)\n",
            " |      Retrieves the named destinations present in the document.\n",
            " |      \n",
            " |      :return: a dictionary which maps names to\n",
            " |          :class:`Destinations<PyPDF2.generic.Destination>`.\n",
            " |      :rtype: dict\n",
            " |  \n",
            " |  getNumPages(self)\n",
            " |      Calculates the number of pages in this PDF file.\n",
            " |      \n",
            " |      :return: number of pages\n",
            " |      :rtype: int\n",
            " |      :raises PdfReadError: if file is encrypted and restrictions prevent\n",
            " |          this action.\n",
            " |  \n",
            " |  getObject(self, indirectReference)\n",
            " |  \n",
            " |  getOutlines(self, node=None, outlines=None)\n",
            " |      Retrieves the document outline present in the document.\n",
            " |      \n",
            " |      :return: a nested list of :class:`Destinations<PyPDF2.generic.Destination>`.\n",
            " |  \n",
            " |  getPage(self, pageNumber)\n",
            " |      Retrieves a page by number from this PDF file.\n",
            " |      \n",
            " |      :param int pageNumber: The page number to retrieve\n",
            " |          (pages begin at zero)\n",
            " |      :return: a :class:`PageObject<pdf.PageObject>` instance.\n",
            " |      :rtype: :class:`PageObject<pdf.PageObject>`\n",
            " |  \n",
            " |  getPageLayout(self)\n",
            " |      Get the page layout.\n",
            " |      See :meth:`setPageLayout()<PdfFileWriter.setPageLayout>`\n",
            " |      for a description of valid layouts.\n",
            " |      \n",
            " |      :return: Page layout currently being used.\n",
            " |      :rtype: ``str``, ``None`` if not specified\n",
            " |  \n",
            " |  getPageMode(self)\n",
            " |      Get the page mode.\n",
            " |      See :meth:`setPageMode()<PdfFileWriter.setPageMode>`\n",
            " |      for a description of valid modes.\n",
            " |      \n",
            " |      :return: Page mode currently being used.\n",
            " |      :rtype: ``str``, ``None`` if not specified\n",
            " |  \n",
            " |  getPageNumber(self, page)\n",
            " |      Retrieve page number of a given PageObject\n",
            " |      \n",
            " |      :param PageObject page: The page to get page number. Should be\n",
            " |          an instance of :class:`PageObject<PyPDF2.pdf.PageObject>`\n",
            " |      :return: the page number or -1 if page not found\n",
            " |      :rtype: int\n",
            " |  \n",
            " |  getXmpMetadata(self)\n",
            " |      Retrieves XMP (Extensible Metadata Platform) data from the PDF document\n",
            " |      root.\n",
            " |      \n",
            " |      :return: a :class:`XmpInformation<xmp.XmpInformation>`\n",
            " |          instance that can be used to access XMP metadata from the document.\n",
            " |      :rtype: :class:`XmpInformation<xmp.XmpInformation>` or\n",
            " |          ``None`` if no metadata was found on the document root.\n",
            " |  \n",
            " |  read(self, stream)\n",
            " |  \n",
            " |  readNextEndLine(self, stream)\n",
            " |  \n",
            " |  readObjectHeader(self, stream)\n",
            " |  \n",
            " |  ----------------------------------------------------------------------\n",
            " |  Data descriptors defined here:\n",
            " |  \n",
            " |  __dict__\n",
            " |      dictionary for instance variables (if defined)\n",
            " |  \n",
            " |  __weakref__\n",
            " |      list of weak references to the object (if defined)\n",
            " |  \n",
            " |  documentInfo\n",
            " |  \n",
            " |  isEncrypted\n",
            " |  \n",
            " |  namedDestinations\n",
            " |  \n",
            " |  numPages\n",
            " |  \n",
            " |  outlines\n",
            " |  \n",
            " |  pageLayout\n",
            " |      Get the page layout.\n",
            " |      See :meth:`setPageLayout()<PdfFileWriter.setPageLayout>`\n",
            " |      for a description of valid layouts.\n",
            " |      \n",
            " |      :return: Page layout currently being used.\n",
            " |      :rtype: ``str``, ``None`` if not specified\n",
            " |  \n",
            " |  pageMode\n",
            " |      Get the page mode.\n",
            " |      See :meth:`setPageMode()<PdfFileWriter.setPageMode>`\n",
            " |      for a description of valid modes.\n",
            " |      \n",
            " |      :return: Page mode currently being used.\n",
            " |      :rtype: ``str``, ``None`` if not specified\n",
            " |  \n",
            " |  pages\n",
            " |  \n",
            " |  xmpMetadata\n",
            "\n"
          ],
          "name": "stdout"
        }
      ]
    },
    {
      "cell_type": "code",
      "metadata": {
        "id": "Q-SatVaXlJHH",
        "colab_type": "code",
        "colab": {
          "base_uri": "https://localhost:8080/",
          "height": 35
        },
        "outputId": "0da9ed9a-64a5-4f6b-f53a-dbeb7cec5c1f"
      },
      "source": [
        "pdf_reader.getNumPages()"
      ],
      "execution_count": 5,
      "outputs": [
        {
          "output_type": "execute_result",
          "data": {
            "text/plain": [
              "4"
            ]
          },
          "metadata": {
            "tags": []
          },
          "execution_count": 5
        }
      ]
    },
    {
      "cell_type": "code",
      "metadata": {
        "id": "n9LvcsXdk4CZ",
        "colab_type": "code",
        "colab": {
          "base_uri": "https://localhost:8080/",
          "height": 122
        },
        "outputId": "fcd07520-34a9-40cc-fe21-d539dde3e962"
      },
      "source": [
        "page1 = pdf_reader.getPage(0)\n",
        "page1.extractText()"
      ],
      "execution_count": 6,
      "outputs": [
        {
          "output_type": "execute_result",
          "data": {
            "application/vnd.google.colaboratory.intrinsic+json": {
              "type": "string"
            },
            "text/plain": [
              "'Draft Syllabus for \\nCSCI \\nE-7 - Introduction to Programing in Python\\n Instructor: Jeff Parker\\n On Line Course \\nÐ Live lecture will be recorded for distance students\\n Meets \\nTuesdays\\n, 5:50 in Maxwell\\n-Dworkin G115\\n.  First day of class: September 3, 2019\\n Course\\n Description\\n Python is \\na language with a simple syntax\\n and a powerful set of libraries. It is an interpreted \\nlanguage, with a rich programming environment, including a robust debugger and profiler. While \\nit is easy for beginners to learn, it is widely use\\nd in many scientific areas for data exploration. \\nThis course is an introduction to the Python programming language for students without prior \\n\\nprogramming experience. \\n We cover data types, control flow, and introduce the analysis of program performance. Th\\ne examples and problems used in this course are drawn from diverse areas such as text processing \\nand simple graphics creation. Students enrolled for graduate credit implement a final project of \\ntheir own design.\\n Our objective is to help students learn to \\nuse the Python programming language to solve \\nproblems of interest to them. We encourage students to come to class on the first day with a goal: \\n\\na project they would like to accomplish. We may not be able to realize the most ambitious \\nprojects, we hope to s\\ntart you on the path to achieving your goals.\\n We will be using Python 3\\n.7, the current version of the language. \\nPrerequisites \\n Basic computer skills, including \\ncomfort with \\nthe command line interface\\n, as described at the \\nlink below,\\n and the ability to c\\nreate \\na text file with a text editor.\\n learnpythonthehardway.org/book/appendixa.html\\n We will use the command line to run programs: it provides an easy way for a user to convey \\n\\ninformation to a program\\n, and many useful \\nprogrammer \\ntools use the command line.  \\n  Expectations\\n There will be\\n weekly\\n programming \\nproblem\\n assignment\\ns that will be \\ncollected \\nbefore\\n the next \\nclass\\n.  For the benefit of other students, I will review solutions on the due date, so I will not be \\nable to accept late assignments. \\nGraduate students will write a final project of the studentÕs \\nchoice.   \\n '"
            ]
          },
          "metadata": {
            "tags": []
          },
          "execution_count": 6
        }
      ]
    },
    {
      "cell_type": "code",
      "metadata": {
        "id": "ryo1cp08lNEI",
        "colab_type": "code",
        "colab": {}
      },
      "source": [
        ""
      ],
      "execution_count": null,
      "outputs": []
    }
  ]
}